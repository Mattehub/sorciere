{
 "cells": [
  {
   "attachments": {},
   "cell_type": "markdown",
   "id": "9a290114",
   "metadata": {},
   "source": [
    "# Inter-subjects correlation (figure 1)"
   ]
  },
  {
   "cell_type": "markdown",
   "id": "9d723d01",
   "metadata": {},
   "source": [
    "### Importing functions"
   ]
  },
  {
   "cell_type": "code",
   "execution_count": 1,
   "id": "511eb6fe",
   "metadata": {},
   "outputs": [],
   "source": [
    "import matplotlib as mpl\n",
    "import h5py\n",
    "import mne\n",
    "import numpy as np\n",
    "import scipy.stats as stats\n",
    "import scipy\n",
    "import pandas as pd\n",
    "from os.path import join as pjoin\n",
    "from itertools import product\n",
    "import matplotlib.pyplot as plt\n",
    "from scipy import stats\n",
    "from matplotlib import colors\n",
    "import matplotlib.cm as cm\n",
    "import random\n",
    "import os\n",
    "import pickle\n",
    "import warnings \n",
    "import matplotlib\n",
    "import seaborn as sns\n",
    "\n",
    "#From the toolbox\n",
    "import saving as sv\n",
    "import avalanches as av\n",
    "import Utils_FC as fc\n",
    "from utils import *\n",
    "\n",
    "warnings.simplefilter('ignore')\n",
    "\n",
    "#Here the path to data \n",
    "path_results='C:/Users/matte/OneDrive/Documenti/matteo/sorciere_results/'\n",
    "path_figures='C:/Users/matte/OneDrive/Documenti/matteo/sorciere_results/'\n",
    "path='C:/Users/matte/OneDrive/Documenti/matteo/'\n",
    "\n",
    "#colors for plotting \n",
    "col_s='#8CCC94'\n",
    "col_m='#FCAC74'\n",
    "col_r='#6CA4CC'\n",
    "\n",
    "colors={}\n",
    "colors['rest'] = col_r\n",
    "colors['speech'] = col_s\n",
    "colors['music'] = col_m\n",
    "\n",
    "#Here uploading subject and sound list\n",
    "sound_list=['rest','music','speech']\n",
    "\n",
    "subject_list = sv.loading(path+'sorciere_utils/sublist')\n",
    "\n",
    "cha_i=sv.loading(path+'sorciere_utils/channels_dic_H_non_H_left_right')\n",
    "\n"
   ]
  },
  {
   "cell_type": "markdown",
   "id": "ad4cbaff",
   "metadata": {},
   "source": [
    "### Uploading data"
   ]
  },
  {
   "cell_type": "code",
   "execution_count": 2,
   "id": "37d6dd71",
   "metadata": {},
   "outputs": [],
   "source": [
    "\n",
    "#PARAMETERS\n",
    "\n",
    "subject_list=subject_list\n",
    "final_channels_without_H={}\n",
    "final_channels_H={}\n",
    "final_channels_all={}\n",
    "dataused='all' #indicate if we want to load only heschl's gyrus or all the channels.\n",
    "\n",
    "zdata={}\n",
    "\n",
    "for isub, subject in enumerate(subject_list):\n",
    "    \n",
    "    zdata[subject]={}\n",
    "    \n",
    "    for sound in sound_list:\n",
    "    \n",
    "        ## Load the data from the HDF file\n",
    "        with h5py.File(pjoin(path+'seeg_data_hgenv_down100_h5py/', subject + '_down100_seeg_preproc.hdf5'), 'r') as f:\n",
    "\n",
    "            #data_music[subject]=f['music'][...]\n",
    "            data_raw=f[sound][...]\n",
    "            \n",
    "            #Here we delete the time point of the rest that correspond to the end and beginning of the three sessions\n",
    "            if sound=='rest':\n",
    "                index_del=np.concatenate((np.arange(int(len(data_raw[0,:])/3)-200,int(len(data_raw[0,:])/3)+200),np.arange(int(len(data_raw[0,:])*2/3)-200,int(len(data_raw[0,:])*2/3)+200)))   \n",
    "                data_raw=np.delete(data_raw, index_del, axis=1)\n",
    "\n",
    "            data_raw=data_raw[:,100:-100]\n",
    "\n",
    "        #Here we load the channels names\n",
    "        with h5py.File(pjoin(path+ 'seeg_data_h5py/h5_electrodes/', subject + '_electrodes.hdf5'), 'r') as f:\n",
    "            \n",
    "            chnames = f['chnames'][...].astype('U')\n",
    "            x=f['chlocs']\n",
    "\n",
    "        #Here we load the list of bad channels\n",
    "        with h5py.File(pjoin(path + 'seeg_data_h5py/h5_misc/', subject + '_misc.hdf5'), 'r') as f:\n",
    "\n",
    "            bad_chans = f['outlier_chans']['strict_bads_names'][...].astype('U')\n",
    "            #mu_bad_epo = f['outlier_epochs']['music']['strict_bads_epochs'][...]\n",
    "\n",
    "        #Cleaning from artifacts\n",
    "        #List of bad channels indices\n",
    "        ch_i = [i for i, ch in enumerate(chnames) if ch in bad_chans]\n",
    "\n",
    "        clean_chnames = [ch for i, ch in enumerate(chnames) if ch not in bad_chans]\n",
    "\n",
    "        clean= np.delete(data_raw, ch_i, axis=0)\n",
    "\n",
    "        #dictionaries with subjects ad keys and channels names\n",
    "        final_channels_without_H[subject]=[ch for i, ch in enumerate(clean_chnames) if i in cha_i[subject]['H']]\n",
    "        final_channels_H[subject]=[ch for i, ch in enumerate(clean_chnames) if i not in cha_i[subject]['H']]\n",
    "        final_channels_all[subject]=clean_chnames\n",
    "\n",
    "        #The final channels that we used\n",
    "        final_channels=clean_chnames\n",
    "\n",
    "        #HERE WE CREATE THE DATA SET, THAT WE USE\n",
    "        if dataused=='H':\n",
    "            clean = np.delete(clean, cha_i[subject]['non_H'], axis=0)\n",
    "\n",
    "        #only the channels not in the helsch gyrus\n",
    "        elif dataused=='non_H':\n",
    "            clean = np.delete(clean, cha_i[subject]['H'], axis=0)\n",
    "\n",
    "        #zscore of the data\n",
    "        zdata_art=stats.zscore(clean, axis=1)\n",
    "\n",
    "        #the artifacts are substituted by 0\n",
    "        zdata_=np.where(np.abs(zdata_art)>5, 0, zdata_art)\n",
    "\n",
    "        #zscored computed again\n",
    "        zdata[subject][sound]=stats.zscore(zdata_, axis=1)\n",
    "\n"
   ]
  },
  {
   "cell_type": "markdown",
   "id": "6984a935",
   "metadata": {},
   "source": [
    "Here we compute the activity profile of each participant."
   ]
  },
  {
   "cell_type": "code",
   "execution_count": 3,
   "id": "2b9c7be5",
   "metadata": {},
   "outputs": [],
   "source": [
    "\n",
    "ap={} #here the activity profile of each subject is stored\n",
    "\n",
    "#data=sv.loading( path+\"data_subject_sound_\" + datatipe)\n",
    "for subject in subject_list:\n",
    "    ap[subject]={}\n",
    "    avalanches={}\n",
    "    \n",
    "    #the threshold is derived as the 99th percentile of the data\n",
    "    thres=np.percentile(zdata[subject]['rest'], 99)\n",
    "    \n",
    "    for sound in sound_list:\n",
    "        \n",
    "        #avalanches dictionaries are computed using the functions of Utils_avalanches.py\n",
    "        avalanches[sound]=av.go_avalanches(zdata[subject][sound].T, thre=thres, direc=0, binsize=2)\n",
    "\n",
    "        #the activity profile is computed, summing across regions.\n",
    "        ap[subject][sound]=np.sum(avalanches[sound]['Zbin'].T, axis=0)\n",
    "        "
   ]
  },
  {
   "attachments": {},
   "cell_type": "markdown",
   "id": "01e7c379",
   "metadata": {},
   "source": [
    "Here we create a matrix for each condition, whose lines are APs of different subjects"
   ]
  },
  {
   "cell_type": "code",
   "execution_count": 4,
   "id": "79867b4c",
   "metadata": {},
   "outputs": [],
   "source": [
    "ap_matrix={} \n",
    "for sound in sound_list:\n",
    "    ap_matrix[sound]=np.zeros((len(subject_list), len(ap[subject_list[0]][sound])))\n",
    "    for isub, subject in enumerate(subject_list):\n",
    "        ap_matrix[sound][isub,:]=ap[subject][sound]\n",
    "    "
   ]
  },
  {
   "attachments": {},
   "cell_type": "markdown",
   "id": "ce6b50d8",
   "metadata": {},
   "source": [
    "Here the correlation matrices (subject x subject) are computed, using the Pearson correlation. Also using the Spearman correlation the results are significant"
   ]
  },
  {
   "cell_type": "code",
   "execution_count": 5,
   "id": "86324282",
   "metadata": {},
   "outputs": [],
   "source": [
    "corr_matrix={}\n",
    "for sound in sound_list:\n",
    "    corr_matrix[sound]=np.corrcoef(ap_matrix[sound])  \n",
    "\n",
    "#For saving the results\n",
    "#sv.saving(corr_matrix, 'matrix_corr_'+dataused)\n",
    "\n",
    "    "
   ]
  },
  {
   "attachments": {},
   "cell_type": "markdown",
   "id": "dca28c71",
   "metadata": {},
   "source": [
    "Here the correlation matrices are plotted."
   ]
  },
  {
   "cell_type": "code",
   "execution_count": 6,
   "id": "269b04ec",
   "metadata": {},
   "outputs": [
    {
     "name": "stdout",
     "output_type": "stream",
     "text": [
      "rest\n"
     ]
    },
    {
     "data": {
      "image/png": "[encoded data removed]",
      "text/plain": [
       "<Figure size 175x175 with 1 Axes>"
      ]
     },
     "metadata": {},
     "output_type": "display_data"
    },
    {
     "name": "stdout",
     "output_type": "stream",
     "text": [
      "music\n"
     ]
    },
    {
     "data": {
      "image/png": "[encoded data removed]",
      "text/plain": [
       "<Figure size 175x175 with 1 Axes>"
      ]
     },
     "metadata": {},
     "output_type": "display_data"
    },
    {
     "name": "stdout",
     "output_type": "stream",
     "text": [
      "speech\n"
     ]
    },
    {
     "data": {
      "image/png": "[encoded data removed]",
      "text/plain": [
       "<Figure size 175x175 with 1 Axes>"
      ]
     },
     "metadata": {},
     "output_type": "display_data"
    }
   ],
   "source": [
    "vm=0.2\n",
    "cl='viridis'\n",
    "colorbar=False\n",
    "\n",
    "for sound in sound_list:\n",
    "    \n",
    "    a,b=0,0.1\n",
    "    print(sound)\n",
    "    plt.figure(figsize=(1.75,1.75))\n",
    "    plt.imshow(corr_matrix[sound],cmap=cl,interpolation='nearest',vmax=vm,)\n",
    "    for i in range(len(subject_list)):\n",
    "        plt.axvline(i-0.5,linewidth=0.15,color='lightsteelblue')\n",
    "        plt.axhline(i-0.5,linewidth=0.15,color='lightsteelblue')\n",
    "    plt.yticks([])\n",
    "    plt.xticks([])\n",
    "    if sound=='rest' and colorbar==True:\n",
    "        plt.colorbar(orientation = 'horizontal', shrink=1, aspect=5)\n",
    "    plt.tight_layout()\n",
    "\n",
    "    #saving the figure:\n",
    "    plt.savefig(path_figures+'intersub_corr_matrix_AP_colorbar'+sound+'_'+dataused+'.png', dpi=600)\n",
    "\n",
    "    plt.show()"
   ]
  },
  {
   "cell_type": "markdown",
   "id": "64beb3a5",
   "metadata": {},
   "source": [
    "### Here we compute the p value between the different correlation matrices"
   ]
  },
  {
   "cell_type": "code",
   "execution_count": 19,
   "id": "ab15f930",
   "metadata": {},
   "outputs": [
    {
     "name": "stdout",
     "output_type": "stream",
     "text": [
      "music vs rest\n",
      "WilcoxonResult(statistic=4604.0, pvalue=2.2346957569150894e-05)\n",
      "speech vs rest\n",
      "WilcoxonResult(statistic=3450.0, pvalue=1.7444183410454156e-09)\n",
      "speech vs music\n",
      "WilcoxonResult(statistic=6211.0, pvalue=0.07816771084583302)\n"
     ]
    }
   ],
   "source": [
    "print('music vs rest')\n",
    "\n",
    "print(stats.wilcoxon(corr_matrix['music'][np.triu_indices(19, k = 1)],corr_matrix['rest'][np.triu_indices(19, k = 1)]))\n",
    "\n",
    "print('speech vs rest')\n",
    "print(stats.wilcoxon(corr_matrix['speech'][np.triu_indices(19, k = 1)],corr_matrix['rest'][np.triu_indices(19, k = 1)]))\n",
    "\n",
    "print('speech vs music')\n",
    "print(stats.wilcoxon(corr_matrix['speech'][np.triu_indices(19, k = 1)],corr_matrix['music'][np.triu_indices(19, k = 1)]))"
   ]
  },
  {
   "attachments": {},
   "cell_type": "markdown",
   "id": "ef26e374",
   "metadata": {},
   "source": [
    "Surrogate data procedure"
   ]
  },
  {
   "cell_type": "code",
   "execution_count": 12,
   "id": "10b4e2d8",
   "metadata": {},
   "outputs": [],
   "source": [
    "list_mean_corr={} #Here we store the result of each iteration\n",
    "\n",
    "num_it=1000 \n",
    "\n",
    "for sound in sound_list:\n",
    "    list_mean_corr[sound]=[]\n",
    "\n",
    "    for i in range(num_it):\n",
    "        \n",
    "        #Here the random shifting is performed.\n",
    "        ap_shift=shifting_matrix(ap_matrix[sound])\n",
    "        list_mean_corr[sound].append(np.mean(np.corrcoef(ap_shift)[np.triu_indices(19, k = 1)]))\n",
    "    \n",
    "sv.saving(list_mean_corr, path_results+\"list_random_correlation_dict\"+dataused)"
   ]
  },
  {
   "cell_type": "code",
   "execution_count": 7,
   "id": "0bdbbefb",
   "metadata": {},
   "outputs": [],
   "source": [
    "list_mean_corr=sv.loading(path_results+\"list_random_correlation_dict\"+dataused)"
   ]
  },
  {
   "cell_type": "markdown",
   "id": "a0bae04d",
   "metadata": {},
   "source": [
    "### Plotting the results of intersubject correlation, comparison with the null model"
   ]
  },
  {
   "cell_type": "code",
   "execution_count": 11,
   "id": "3f3a8087",
   "metadata": {},
   "outputs": [
    {
     "name": "stdout",
     "output_type": "stream",
     "text": [
      "rest\n"
     ]
    },
    {
     "data": {
      "image/png": "[encoded data removed]",
      "text/plain": [
       "<Figure size 200x170 with 1 Axes>"
      ]
     },
     "metadata": {},
     "output_type": "display_data"
    },
    {
     "name": "stdout",
     "output_type": "stream",
     "text": [
      "music\n"
     ]
    },
    {
     "data": {
      "image/png": "[encoded data removed]",
      "text/plain": [
       "<Figure size 200x170 with 1 Axes>"
      ]
     },
     "metadata": {},
     "output_type": "display_data"
    },
    {
     "name": "stdout",
     "output_type": "stream",
     "text": [
      "speech\n"
     ]
    },
    {
     "data": {
      "image/png": "[encoded data removed]",
      "text/plain": [
       "<Figure size 200x170 with 1 Axes>"
      ]
     },
     "metadata": {},
     "output_type": "display_data"
    }
   ],
   "source": [
    "list_mean_corr=sv.loading(path_results+\"list_random_correlation_dict\"+dataused)\n",
    "\n",
    "for sound in sound_list:\n",
    "\n",
    "    #Here we print the results of the null model and the one of our data.\n",
    "    print(sound)\n",
    "    plt.figure(figsize=(2,1.7))\n",
    "    plt.gca().spines['top'].set_visible(False)\n",
    "    plt.gca().spines['right'].set_visible(False)\n",
    "    xmin=-0.004\n",
    "    xmax=0.01\n",
    "    n, bins, patches = plt.hist(x=list_mean_corr[sound], bins=15, color='darkslategray',\n",
    "                                alpha=0.5, rwidth=0.85, range=[xmin,xmax])\n",
    "    \n",
    "    #plt.axvline(np.mean(np.corrcoef(RSS['rest'])[np.triu_indices(len(subject_list),1)]),c=col_r,linewidth=4)\n",
    "    plt.axvline(x=np.mean(corr_matrix[sound][np.triu_indices(19, k = 1)]), color=colors[sound], linewidth=4)\n",
    "    plt.xticks(fontsize=12)\n",
    "    plt.yticks(fontsize=12)\n",
    "    plt.ylim(0,401)\n",
    "    plt.tight_layout()\n",
    "    plt.savefig(path_results+'hist_real_result_temporal_scales'+sound+'.png',dpi=600)\n",
    "    plt.show()"
   ]
  },
  {
   "cell_type": "markdown",
   "id": "21c8d309",
   "metadata": {},
   "source": [
    "### Computing the intersubject correlation for different bin sizes"
   ]
  },
  {
   "cell_type": "code",
   "execution_count": 21,
   "id": "6d187f8a",
   "metadata": {},
   "outputs": [
    {
     "name": "stdout",
     "output_type": "stream",
     "text": [
      
     ]
    }
   ],
   "source": [
    "bin_size_max = 2000 #the maximal binsize\n",
    "binsizes=np.arange(1, bin_size_max+1)\n",
    "\n",
    "ap = {}\n",
    "ap_matrix = {}\n",
    "list_mean_corr = {}\n",
    "z_stats={}\n",
    "real_intersubcorr={}\n",
    "real_intersubcorr_std={}\n",
    "p_value_speech_music = {}\n",
    "p_value_speech_rest = {}\n",
    "p_value_music_rest = {}\n",
    "\n",
    "for bins in binsizes:\n",
    "\n",
    "    print(bins)\n",
    "    ap[bins]={} #here the activity profile of each subject is stored\n",
    "\n",
    "    for subject in subject_list:\n",
    "        ap[bins][subject]={}\n",
    "        avalanches={}\n",
    "        \n",
    "        #the threshold is derived as the 99th percentile of the data\n",
    "        thres=np.percentile(zdata[subject]['rest'], 99)\n",
    "        \n",
    "        for sound in sound_list:\n",
    "            \n",
    "            #avalanches dictionaries are computed using the functions of Utils_avalanches.py and binsize of interest\n",
    "            avalanches[sound]=av.go_avalanches(zdata[subject][sound].T, thre=thres, direc=0, binsize=bins)\n",
    "\n",
    "            ap[bins][subject][sound]=np.sum(avalanches[sound]['Zbin'].T, axis=0)\n",
    "\n",
    "    #in this dictionaire we store the evarage intersubject correlation.\n",
    "    real_intersubcorr[bins]={}\n",
    "    #Here we compute also the standard deviation, it will not be used anyways.\n",
    "    real_intersubcorr_std[bins]={}\n",
    "\n",
    "    ap_matrix[bins]={} \n",
    "    for sound in sound_list:\n",
    "        \n",
    "        #Here we create a matrix of activity profile, to better compute intersubject correlation\n",
    "        ap_matrix[bins][sound]=np.zeros((len(subject_list), len(ap[bins][subject_list[0]][sound])))\n",
    "        for isub, subject in enumerate(subject_list):\n",
    "            ap_matrix[bins][sound][isub,:]=ap[bins][subject][sound]\n",
    "        real_intersubcorr[bins][sound] = np.mean(np.corrcoef(ap_matrix[bins][sound])[np.triu_indices(19, k = 1)]) \n",
    "        real_intersubcorr_std[bins][sound] = np.std(np.corrcoef(ap_matrix[bins][sound])[np.triu_indices(19, k = 1)]) \n",
    "\n",
    "    #For each binsize we also store the p value of the \n",
    "    p_value_speech_music[bins]=stats.wilcoxon(np.corrcoef(ap_matrix[bins]['speech'])[np.triu_indices(19, k = 1)], np.corrcoef(ap_matrix[bins]['music'])[np.triu_indices(19, k = 1)])[1]\n",
    "    p_value_speech_rest[bins]=stats.wilcoxon(np.corrcoef(ap_matrix[bins]['speech'])[np.triu_indices(19, k = 1)], np.corrcoef(ap_matrix[bins]['rest'])[np.triu_indices(19, k = 1)])[1]\n",
    "    p_value_music_rest[bins]=stats.wilcoxon(np.corrcoef(ap_matrix[bins]['music'])[np.triu_indices(19, k = 1)], np.corrcoef(ap_matrix[bins]['rest'])[np.triu_indices(19, k = 1)])[1]\n",
    "\n",
    "    "
   ]
  },
  {
   "cell_type": "markdown",
   "id": "3beb05ce",
   "metadata": {},
   "source": [
    "### Saving the results"
   ]
  },
  {
   "cell_type": "code",
   "execution_count": 22,
   "id": "ee140d0e",
   "metadata": {},
   "outputs": [],
   "source": [
    "sv.saving(real_intersubcorr, path_results+ 'results_Binsizes_mean_corr_dict')\n",
    "sv.saving(real_intersubcorr_std,path_results+ 'results_Binsizes_std_corr_dict')\n",
    "sv.saving(p_value_speech_music, path_results+'results_Binsizes_p_spmu_dict')\n",
    "sv.saving(p_value_speech_rest,path_results+ 'results_Binsizes_p_spre_dict')\n",
    "sv.saving(p_value_music_rest, path_results+'results_Binsizes_p_mure_dict')\n"
   ]
  },
  {
   "cell_type": "code",
   "execution_count": 23,
   "id": "ac2b80b0",
   "metadata": {},
   "outputs": [],
   "source": [
    "real_intersubcorr=sv.loading(path_results+ 'results_Binsizes_mean_corr_dict')\n",
    "\n"
   ]
  },
  {
   "cell_type": "markdown",
   "id": "20feb285",
   "metadata": {},
   "source": [
    "### Plotting the intersubject correlation for different bin sizes "
   ]
  },
  {
   "cell_type": "code",
   "execution_count": 24,
   "id": "dc09f0f0",
   "metadata": {},
   "outputs": [
    {
     "data": {
      "image/png": "[encoded data removed]",
      "text/plain": [
       "<Figure size 500x320 with 1 Axes>"
      ]
     },
     "metadata": {},
     "output_type": "display_data"
    }
   ],
   "source": [
    "binsizes=np.arange(1, bin_size_max)\n",
    "max_bin_forplot=2000\n",
    "\n",
    "plt.figure(figsize=(5,3.2))\n",
    "\n",
    "bin_rel_corrtoplot={}\n",
    "for sound in sound_list:\n",
    "    bin_rel_corrtoplot[sound]=[]\n",
    "\n",
    "    for bins in binsizes[:max_bin_forplot]:\n",
    "\n",
    "        bin_rel_corrtoplot[sound].append(real_intersubcorr[bins][sound])\n",
    "\n",
    "    plt.plot(bin_rel_corrtoplot[sound], color=colors[sound], label=sound)\n",
    "\n",
    "plt.gca().spines['top'].set_visible(False)\n",
    "plt.gca().spines['right'].set_visible(False)\n",
    "xtick=list(np.arange(0,21))\n",
    "xtick[0]=0.01\n",
    "plt.xticks(np.arange(0,2001)[::100], xtick , rotation=60) # time in seconds (each time steps, corresponds to 10 s)\n",
    "plt.tight_layout(pad=2)\n",
    "plt.savefig('binsizes_effect_max_1000.png', dpi=600)\n",
    "plt.legend(fontsize=7)\n",
    "plt.show()\n",
    "plt.close()\n",
    "\n",
    "sv.saving(bin_rel_corrtoplot, path_results+'results_Binsizes_mean_corr_dict_toplot')\n"
   ]
  },
  {
   "cell_type": "markdown",
   "id": "1a72e646",
   "metadata": {},
   "source": [
    "### Computation of the intersubject correlation for different threshold"
   ]
  },
  {
   "cell_type": "code",
   "execution_count": 18,
   "id": "70b13858",
   "metadata": {},
   "outputs": [],
   "source": [
    "th_max=99\n",
    "th_min=50\n",
    "\n",
    "ap_th = {}\n",
    "ap_matrix_th = {}\n",
    "list_mean_corr_th = {}\n",
    "z_stats_th={}\n",
    "real_intersubcorr_th={}\n",
    "real_intersubcorr_th_std={}\n",
    "p_value_speech_music_th={}\n",
    "p_value_speech_rest_th={}\n",
    "p_value_music_rest_th={}\n",
    "thresholds = np.arange(th_min,th_max)"
   ]
  },
  {
   "cell_type": "code",
   "execution_count": 28,
   "id": "95162f76",
   "metadata": {},
   "outputs": [],
   "source": [
    "for th in thresholds:\n",
    "    ap_th[th]={} #here the activity profile of each subject is stored\n",
    "\n",
    "    for subject in subject_list:\n",
    "        ap_th[th][subject]={}\n",
    "        avalanches={}\n",
    "        \n",
    "        #the threshold is computed as the percentile of interest\n",
    "        thres=np.percentile(np.abs(zdata[subject]['rest']), th)\n",
    "        \n",
    "        for sound in sound_list:\n",
    "            \n",
    "            #avalanches dictionaries are computed using the functions of Utils_avalanches.py, with the threshold of interest\n",
    "            avalanches[sound]=av.go_avalanches(zdata[subject][sound].T, thre=thres, direc=0, binsize=2)\n",
    "            ap_th[th][subject][sound]=np.sum(avalanches[sound]['Zbin'].T, axis=0)\n",
    "\n",
    "    real_intersubcorr_th[th]={}\n",
    "    real_intersubcorr_th_std[th]={}\n",
    "    ap_matrix_th[th]={} \n",
    "    for sound in sound_list:\n",
    "        ap_matrix_th[th][sound]=np.zeros((len(subject_list), len(ap_th[th][subject_list[0]][sound])))\n",
    "        for isub, subject in enumerate(subject_list):\n",
    "            ap_matrix_th[th][sound][isub,:]=ap_th[th][subject][sound]\n",
    "        real_intersubcorr_th[th][sound] = np.mean(np.corrcoef(ap_matrix_th[th][sound])[np.triu_indices(19, k = 1)]) \n",
    "        real_intersubcorr_th_std[th][sound]= np.std(np.corrcoef(ap_matrix_th[th][sound])[np.triu_indices(19, k = 1)]) \n",
    "\n",
    "    p_value_speech_music_th[th]=stats.wilcoxon(np.corrcoef(ap_matrix_th[th]['speech'])[np.triu_indices(19, k = 1)], np.corrcoef(ap_matrix_th[th]['music'])[np.triu_indices(19, k = 1)])[1]\n",
    "    p_value_speech_rest_th[th]=stats.wilcoxon(np.corrcoef(ap_matrix_th[th]['speech'])[np.triu_indices(19, k = 1)], np.corrcoef(ap_matrix_th[th]['rest'])[np.triu_indices(19, k = 1)])[1]\n",
    "    p_value_music_rest_th[th]=stats.wilcoxon(np.corrcoef(ap_matrix_th[th]['music'])[np.triu_indices(19, k = 1)], np.corrcoef(ap_matrix_th[th]['rest'])[np.triu_indices(19, k = 1)])[1]\n",
    "\n",
    "    "
   ]
  },
  {
   "cell_type": "code",
   "execution_count": 29,
   "id": "10ea7b05",
   "metadata": {},
   "outputs": [],
   "source": [
    "sv.saving(real_intersubcorr_th, path_results+ 'results_mean_corr_dict_th')\n",
    "sv.saving(real_intersubcorr_th_std,path_results+ 'results_std_corr_dict_th')\n",
    "sv.saving(p_value_speech_music_th, path_results+'results_p_spmu_dict_th')\n",
    "sv.saving(p_value_speech_rest_th,path_results+ 'results_p_spre_dict_th')\n",
    "sv.saving(p_value_music_rest_th, path_results+'results_p_mure_dict_th')"
   ]
  },
  {
   "cell_type": "code",
   "execution_count": 30,
   "id": "29e627ba",
   "metadata": {},
   "outputs": [],
   "source": [
    "real_intersubcorr_th=sv.loading(path_results+ 'results_mean_corr_dict_th')\n",
    "real_intersubcorr_th_std=sv.loading(path_results+ 'results_std_corr_dict_th')\n"
   ]
  },
  {
   "cell_type": "markdown",
   "id": "924e7ded",
   "metadata": {},
   "source": [
    "### Plotting of the intersubject correlation in function of the threshold"
   ]
  },
  {
   "cell_type": "code",
   "execution_count": 39,
   "id": "533f9db3",
   "metadata": {},
   "outputs": [
    {
     "data": {
      "image/png": "[encoded data removed]",
      "text/plain": [
       "<Figure size 400x320 with 1 Axes>"
      ]
     },
     "metadata": {},
     "output_type": "display_data"
    }
   ],
   "source": [
    "#Here we store the data for the plots.\n",
    "th_rel_corrtoplot={}\n",
    "real_intersubcorr_th_std_toplot={} \n",
    "\n",
    "plt.figure(figsize=(4,3.2))\n",
    "for sound in sound_list:\n",
    "    th_rel_corrtoplot[sound]=[]\n",
    "    real_intersubcorr_th_std_toplot[sound]=[]\n",
    "    for th in thresholds:\n",
    "\n",
    "        th_rel_corrtoplot[sound].append(real_intersubcorr_th[th][sound])\n",
    "        real_intersubcorr_th_std_toplot[sound].append(real_intersubcorr_th_std[th][sound])\n",
    "    plt.plot(th_rel_corrtoplot[sound],  color=colors[sound], label=sound)\n",
    "\n",
    "xticks=list(np.arange(50,99,10))\n",
    "xticks.append(99)\n",
    "aa=list(np.arange(0,49,10))\n",
    "aa.append(49)\n",
    "plt.gca().spines['top'].set_visible(False)\n",
    "plt.gca().spines['right'].set_visible(False)\n",
    "plt.xticks(aa, xticks, fontsize=15, rotation=60)\n",
    "plt.yticks(fontsize=15)\n",
    "#plt.legend(fontsize=12)\n",
    "plt.tight_layout(pad=2)\n",
    "plt.savefig(path_results+'threshold_effect_max.png', dpi=600)\n",
    "plt.show()\n",
    "plt.close()\n",
    "\n",
    "sv.saving(th_rel_corrtoplot, path_results+'results_threshold_mean_corr_dict_toplot')\n",
    "\n"
   ]
  },
  {
   "cell_type": "markdown",
   "id": "3a232e8f",
   "metadata": {},
   "source": [
    "### Here we compute the intersubject correlation samplig one channel per region"
   ]
  },
  {
   "cell_type": "code",
   "execution_count": 6,
   "id": "28f9a3f8",
   "metadata": {},
   "outputs": [],
   "source": [
    "#The main parameter for the computation of these results\n",
    "n_iteration=1000\n",
    "\n",
    "zdata={}\n",
    "real_corr_sim={}\n",
    "\n",
    "for sound in sound_list:\n",
    "    real_corr_sim[sound]=list()\n",
    "\n",
    "for n in range(n_iteration):\n",
    "    \n",
    "    for subject in subject_list:\n",
    "        zdata[subject]={}\n",
    "        \n",
    "        for sound in sound_list:\n",
    "            with h5py.File(pjoin(path+'seeg_data_hgenv_down100_h5py/', subject + '_down100_seeg_preproc.hdf5'), 'r') as f:\n",
    "\n",
    "                #data_music[subject]=f['music'][...]\n",
    "                data_raw=f[sound][...]\n",
    "                \n",
    "            #Here we delete the time point of the rest that correspond to the end and beginning of the three sessions\n",
    "            if sound=='rest':\n",
    "                index_del=np.concatenate((np.arange(int(len(data_raw[0,:])/3)-200,int(len(data_raw[0,:])/3)+200),np.arange(int(len(data_raw[0,:])*2/3)-200,int(len(data_raw[0,:])*2/3)+200)))   \n",
    "                data_raw=np.delete(data_raw, index_del, axis=1)\n",
    "\n",
    "            data_raw=data_raw[:,100:-100]\n",
    "\n",
    "            #Here we load the channels names\n",
    "            with h5py.File(pjoin(path+ 'seeg_data_h5py/h5_electrodes/', subject + '_electrodes.hdf5'), 'r') as f:\n",
    "\n",
    "                chnames = f['chnames'][...].astype('U')\n",
    "                x=f['chlocs']\n",
    "\n",
    "            #Here we load the list of bad channels\n",
    "            with h5py.File(pjoin(path + 'seeg_data_h5py/h5_misc/', subject + '_misc.hdf5'), 'r') as f:\n",
    "\n",
    "                bad_chans = f['outlier_chans']['strict_bads_names'][...].astype('U')\n",
    "\n",
    "            #here we store the indices of the bad channels\n",
    "            ch_i = [i for i, ch in enumerate(chnames) if ch in bad_chans]\n",
    "\n",
    "            #Here we stored the name of the \"good\" channels\n",
    "            clean_chnames = [ch for i, ch in enumerate(chnames) if ch not in bad_chans]\n",
    "\n",
    "            #here we reupload the channel names list and the region of the atlass that we consider\n",
    "            with h5py.File(pjoin(path+'seeg_data_h5py/h5_electrodes/', subject + '_electrodes.hdf5'), 'r') as f:\n",
    "                \n",
    "                chnames = f['chnames'][...].astype('U')\n",
    "                at=f['atlasses']['Brainnetome'][...]\n",
    "            \n",
    "            #Here we create the list of indices that we want to consider\n",
    "            listR=[a[:13] for a in at]#list of channels by the name of the regions in which they belong\n",
    "            list_goodR=np.delete(listR, ch_i)#list of good channels by the name of the region in which they belong\n",
    "            setR=list(dict.fromkeys(list_goodR))\n",
    "            good_indices=[]\n",
    "            \n",
    "            for i in setR:\n",
    "                \n",
    "                #For each region we select only 1 index\n",
    "                indices=[j for j, r in enumerate(list_goodR) if r==i]\n",
    "                good_indices.append(np.random.choice(indices))\n",
    "\n",
    "            \n",
    "            clean_chnames = [ch for i, ch in enumerate(chnames) if ch not in bad_chans]\n",
    "            ch_i_sim = [i for i, ch in enumerate(clean_chnames) if i not in good_indices]#here we store the indices of this iteration\n",
    "            clean_chnames_sim= [ch for i, ch in enumerate(clean_chnames) if i in good_indices]\n",
    "            \n",
    "            clea = np.delete(data_raw, ch_i, axis=0)#clean data\n",
    "            clean= np.delete(clea,  ch_i_sim, axis=0)#clean data, only channels for the iteration\n",
    "\n",
    "            #The final channels that we used\n",
    "            final_channels=clean_chnames_sim\n",
    "\n",
    "            #zscore of the data\n",
    "            zdata_art=stats.zscore(clean, axis=1)\n",
    "\n",
    "            #the artifacts are substituted by 0\n",
    "            zdata_=np.where(np.abs(zdata_art)>5, 0, zdata_art)\n",
    "\n",
    "            #zscored computed again\n",
    "            zdata[subject][sound]=stats.zscore(zdata_, axis=1)\n",
    "    \n",
    "    ap={} #here the activity profile of each subject is stored\n",
    "\n",
    "    for subject in subject_list:\n",
    "        ap[subject]={}\n",
    "        avalanches={}\n",
    "        \n",
    "        #the threshold is derived as the 99th percentile of the data\n",
    "        thres=np.percentile(zdata[subject]['rest'], 99)\n",
    "        \n",
    "        for sound in sound_list:\n",
    "            \n",
    "            #avalanches dictionaries are computed using the functions of Utils_avalanches.py\n",
    "            avalanches[sound]=av.go_avalanches(zdata[subject][sound].T, thre=thres, direc=0, binsize=2)\n",
    "            ap[subject][sound]=np.sum(avalanches[sound]['Zbin'].T, axis=0)\n",
    "            \n",
    "    ap_matrix={} \n",
    "    for sound in sound_list:\n",
    "        ap_matrix[sound]=np.zeros((len(subject_list), len(ap[subject_list[0]][sound])))\n",
    "        for isub, subject in enumerate(subject_list):\n",
    "            ap_matrix[sound][isub,:]=ap[subject][sound] \n",
    "\n",
    "    #Finally we append to the list the result of this random iteration.\n",
    "    for sound in sound_list:\n",
    "        real_corr_sim[sound].append(np.mean(np.corrcoef(ap_matrix[sound])[np.triu_indices(19, k = 1)]))\n",
    "\n",
    "#For comodity we store the results as an array\n",
    "for sound in sound_list:\n",
    "    real_corr_sim[sound]= np.array(real_corr_sim[sound])\n",
    "\n",
    "       "
   ]
  },
  {
   "cell_type": "markdown",
   "id": "de390c21",
   "metadata": {},
   "source": [
    "Saving the results:"
   ]
  },
  {
   "cell_type": "code",
   "execution_count": 7,
   "id": "283080d3",
   "metadata": {},
   "outputs": [],
   "source": [
    "sv.saving(real_corr_sim,path_results+'results_sim_random_picking_1perregion')"
   ]
  },
  {
   "cell_type": "code",
   "execution_count": 7,
   "id": "262ad192",
   "metadata": {},
   "outputs": [],
   "source": [
    "real_corr_sim = sv.loading(path_results+'results_sim_random_picking_1perregion')"
   ]
  },
  {
   "cell_type": "code",
   "execution_count": 8,
   "id": "8e0587cd",
   "metadata": {},
   "outputs": [
    {
     "name": "stdout",
     "output_type": "stream",
     "text": [
      "4.191713056722473e-52\n",
      "0.0\n",
      "0.0\n",
      "TtestResult(statistic=15.640089818430665, pvalue=4.191713056722473e-52, df=1998.0)\n",
      "TtestResult(statistic=75.03791485574202, pvalue=0.0, df=1998.0)\n",
      "TtestResult(statistic=55.4147364463544, pvalue=0.0, df=1998.0)\n"
     ]
    },
    {
     "data": {
      "image/png": "[encoded data removed]",
      "text/plain": [
       "<Figure size 370x300 with 1 Axes>"
      ]
     },
     "metadata": {},
     "output_type": "display_data"
    }
   ],
   "source": [
    "\n",
    "C1 = {'s': '#93cb90', 'm': '#ffa96b', 'r': '#6da3cc'}\n",
    "\n",
    "plt.figure(figsize=(3.7,3))\n",
    "mpl.rcParams[\"axes.spines.right\"] = False\n",
    "mpl.rcParams[\"axes.spines.top\"] = False\n",
    "\n",
    "dist_sp_re1=real_corr_sim['speech']\n",
    "dist_re_mu1=real_corr_sim['music']\n",
    "dist_sp_mu1=real_corr_sim['rest']\n",
    "\n",
    "#plt.axhline(0,alpha=0.3, linestyle=':',color='k')\n",
    "box_plot_data=[dist_sp_re1,dist_re_mu1,dist_sp_mu1]#[left_increase_list['speech']-right_increase_list['speech'],left_increase_list['music']-right_increase_list['music']]\n",
    "for i in np.arange(len(dist_sp_mu1))[::10]:\n",
    "    spmu=dist_sp_mu1[i]\n",
    "    remu=dist_re_mu1[i]\n",
    "    spre=dist_sp_re1[i]\n",
    "    eps1=(np.random.rand()-.5)*((1-spre*100))*0.05\n",
    "    eps2=(np.random.rand()-.5)*((1-remu*100))*0.05\n",
    "    eps3=(np.random.rand()-.5)*((1-spmu*100))*0.05\n",
    "    plt.scatter(1+eps1,spre,color=C1['s'],alpha=.5, s=5)#color=C2['sr']\n",
    "    plt.scatter(2+eps2,remu,color=C1['m'],alpha=.5, s=5)#color=C2['mr'],\n",
    "    plt.scatter(3+eps3,spmu,color=C1['r'],alpha=.5, s=5)#color=C2['sm']\n",
    "\n",
    "    # plt.scatter(1,spre,color=C1['s'],alpha=.5)\n",
    "    # plt.scatter(2,remu,color=C1['m'],alpha=.5)\n",
    "    # plt.scatter(3,spmu,color=C1['m'],alpha=.9)\n",
    "    # plt.scatter(1,spre,color=C1['r'],alpha=.5)\n",
    "    # plt.scatter(2,remu,color=C1['r'],alpha=.5)\n",
    "    # plt.scatter(3,spmu,color=C1['s'],alpha=.5)\n",
    "    '''if spre-remu<0:\n",
    "        plt.plot([1,2],[spre,remu],color='grey',alpha=0.4)\n",
    "    else:\n",
    "        plt.plot([1,2],[spre,remu],color='grey',alpha=0.4,linestyle='--')\n",
    "\n",
    "    if spmu-remu<0:\n",
    "        plt.plot([3,2],[spmu,remu],color='grey',alpha=0.4)\n",
    "    else:\n",
    "        plt.plot([3,2],[spmu,remu],color='grey',alpha=0.4,linestyle='--')'''\n",
    "\n",
    "plt.boxplot(box_plot_data,patch_artist=False,labels=['speech','music','rest'])\n",
    "psrmr=stats.ttest_ind(dist_sp_re1,dist_re_mu1)[1]\n",
    "psrsm=stats.ttest_ind(dist_sp_re1,dist_sp_mu1)[1]\n",
    "pmrsm=stats.ttest_ind(dist_re_mu1,dist_sp_mu1)[1]\n",
    "\n",
    "print(psrmr)\n",
    "print(psrsm)\n",
    "print(pmrsm)\n",
    "print(stats.ttest_ind(dist_sp_re1,dist_re_mu1))\n",
    "print(stats.ttest_ind(dist_sp_re1,dist_sp_mu1))\n",
    "print(stats.ttest_ind(dist_re_mu1,dist_sp_mu1))\n",
    "\n",
    "# p=Gtest(left_increase_list['speech']-right_increase_list['speech'],left_increase_list['music']-right_increase_list['music'])\n",
    "# print('Gio test  ', p)\n",
    "# print(stats.wilcoxon(left_increase_list['speech']-right_increase_list['speech'],left_increase_list['music']-right_increase_list['music']))\n",
    "# print('p_value music - speech ', pp)\n",
    "# print('p_value music - rest ', psr)\n",
    "# print('p_value music - rest ', pmr)\n",
    "\n",
    "to_min1=np.array([dist_sp_re1,dist_re_mu1,dist_sp_mu1])\n",
    "bottom1, top1 = np.min(to_min1), np.max(to_min1)\n",
    "bars_diff(psrmr, bottom1, top1,height=3.5)\n",
    "bars_diff(psrsm, bottom1, top1,x1=1,x2=3,height=5.5)\n",
    "bars_diff(pmrsm, bottom1, top1,x1=2,x2=3,height=1.5)\n",
    "plt.tight_layout(pad=0.35)\n",
    "plt.axhline(0, color='grey', alpha = 0.3)\n",
    "plt.ylim((-0.002,0.0079))\n",
    "\n",
    "plt.savefig(path_results+'one_ch_per_reg_intersub_corr_reali.png', dpi=600)\n",
    "# plt.show()\n",
    "# plt.close()\n"
   ]
  },
  {
   "cell_type": "markdown",
   "id": "40b7248c",
   "metadata": {},
   "source": [
    "## p values computations\n"
   ]
  },
  {
   "cell_type": "code",
   "execution_count": 9,
   "id": "c7209f9a",
   "metadata": {},
   "outputs": [
    {
     "name": "stdout",
     "output_type": "stream",
     "text": [
      "0.248 rest\n",
      "0.001 music\n",
      "0.0 speech\n"
     ]
    }
   ],
   "source": [
    "for sound in sound_list:\n",
    "    p=np.sum(np.where((real_corr_sim[sound]) < 0, 1,0))/1000\n",
    "    print(p,sound)"
   ]
  }
 ],
 "metadata": {
  "kernelspec": {
   "display_name": "Python 3 (ipykernel)",
   "language": "python",
   "name": "python3"
  },
  "language_info": {
   "codemirror_mode": {
    "name": "ipython",
    "version": 3
   },
   "file_extension": ".py",
   "mimetype": "text/x-python",
   "name": "python",
   "nbconvert_exporter": "python",
   "pygments_lexer": "ipython3",
   "version": "3.9.4"
  }
 },
 "nbformat": 4,
 "nbformat_minor": 5
}
