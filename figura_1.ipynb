{
 "cells": [
  {
   "attachments": {},
   "cell_type": "markdown",
   "id": "9a290114",
   "metadata": {},
   "source": [
    "# Inter-subjects correlation (figure 1)"
   ]
  },
  {
   "cell_type": "markdown",
   "id": "9d723d01",
   "metadata": {},
   "source": [
    "### Importing functions"
   ]
  },
  {
   "cell_type": "code",
   "execution_count": 2,
   "id": "511eb6fe",
   "metadata": {},
   "outputs": [],
   "source": [
    "import matplotlib as mpl\n",
    "import h5py\n",
    "import mne\n",
    "import numpy as np\n",
    "import scipy.stats as stats\n",
    "import scipy\n",
    "import pandas as pd\n",
    "from os.path import join as pjoin\n",
    "from itertools import product\n",
    "import matplotlib.pyplot as plt\n",
    "from scipy import stats\n",
    "from matplotlib import colors\n",
    "import matplotlib.cm as cm\n",
    "import random\n",
    "import os\n",
    "import pickle\n",
    "import warnings \n",
    "import matplotlib\n",
    "from lempel_ziv_complexity import lempel_ziv_complexity\n",
    "import seaborn as sns\n",
    "\n",
    "import saving as sv\n",
    "import avalanches as av\n",
    "import Utils_FC as fc\n",
    "\n",
    "warnings.simplefilter('ignore')\n",
    "\n",
    "#path='/home/jeremy/anaconda3/matteo/'\n",
    "path='C:/Users/matte/OneDrive/Documenti/matteo/'\n",
    "#CREATING THE LIST OF SUBJECTS\n",
    "\n",
    "#main definition:\n",
    "\n",
    "sound_list=['speech','music', 'rest']\n",
    "\n",
    "#colors for plotting \n",
    "col_s='#8CCC94'\n",
    "col_m='#FCAC74'\n",
    "col_r='#6CA4CC'\n",
    "\n",
    "colors={}\n",
    "colors['rest'] = '#6CA4CC'\n",
    "colors['speech'] = '#8CCC94'\n",
    "colors['music'] = '#FCAC74'"
   ]
  },
  {
   "attachments": {},
   "cell_type": "markdown",
   "id": "3da8e41a",
   "metadata": {},
   "source": [
    "Computation subject list "
   ]
  },
  {
   "cell_type": "code",
   "execution_count": 3,
   "id": "c1b7fd67",
   "metadata": {},
   "outputs": [],
   "source": [
    "\n",
    "sound_list=['rest','music','speech']\n",
    "arr_mu = os.listdir(path +'seeg_fif_data/music')\n",
    "arr_rest = os.listdir(path +'seeg_fif_data/speech')\n",
    "arr_speech = os.listdir(path +'seeg_fif_data/rest')\n",
    "\n",
    "subject_set_mu=set()\n",
    "subject_set_speech=set()\n",
    "subject_set_rest=set()\n",
    "\n",
    "for st in arr_mu: \n",
    "    #print(st)\n",
    "    subject_set_mu.add(st.partition('_')[0])\n",
    "    #print(st.partition('_')[0])\n",
    "    \n",
    "for st in arr_speech:\n",
    "    subject_set_speech.add(st.partition('_')[0])\n",
    "    \n",
    "for st in arr_rest:\n",
    "    subject_set_rest.add(st.partition('_')[0])\n",
    "\n",
    "subject_list=list(subject_set_mu.intersection(subject_set_speech,subject_set_rest))\n",
    "\n",
    "#Here I create a set of the  all channels\n",
    "total_channels_set=set()\n",
    "\n",
    "for subject in subject_list:\n",
    "    with h5py.File(pjoin(path +'seeg_data_h5py/h5_electrodes/', subject + '_electrodes.hdf5'), 'r') as f:\n",
    "        #print(f.keys())\n",
    "        #print('chnames', f['chnames'].shape)\n",
    "        \n",
    "        chnames = f['chnames'][...].astype('U')\n",
    "        total_channels_set.update(chnames)\n",
    "        \n",
    "#print(total_channels_set)\n",
    "\n",
    "\n",
    "#Here I create a set of the H channels\n",
    "ch_H=set()\n",
    "for ch in total_channels_set:\n",
    "    \n",
    "    if \"H\" in ch:\n",
    "        ch_H.add(ch)\n",
    "\n",
    "#Here I create another set of channels        \n",
    "ch_IM=set()\n",
    "for ch in total_channels_set:\n",
    "    \n",
    "    if \"IP\" in ch:\n",
    "        ch_IM.add(ch)\n",
    "#print(ch_H)\n",
    "\n",
    "\n",
    "\n"
   ]
  },
  {
   "cell_type": "markdown",
   "id": "ad4cbaff",
   "metadata": {},
   "source": [
    "### Uploading data, channels and subject list"
   ]
  },
  {
   "cell_type": "code",
   "execution_count": 5,
   "id": "37319324",
   "metadata": {},
   "outputs": [
    {
     "name": "stdout",
     "output_type": "stream",
     "text": [
      "sub-82e330f8aadd\n",
      "[30, 31, 32, 33, 34, 35, 36, 37, 38, 39]\n",
      "sub-e0bb6ccef2a5\n",
      "[32, 33, 34, 35, 36, 37, 38, 39, 40, 41, 42, 43, 67, 68, 69, 70, 71, 72, 73, 74, 75, 76, 77]\n",
      "sub-ebf231d97f73\n",
      "[43, 44, 45, 46, 47, 48, 49, 50, 51, 52, 139, 140, 141, 142, 143, 144, 145]\n",
      "sub-44375d501493\n",
      "[100, 101, 102, 103, 104, 105, 106]\n",
      "sub-28e70e7c7fbb\n",
      "[9, 10, 11, 12, 13, 14, 108, 109, 110, 111, 112, 113, 114, 115, 116]\n",
      "sub-95a634be7e05\n",
      "[83, 84, 85, 86, 87, 88, 89, 90, 91, 92, 93, 94, 95, 110, 111, 112, 113, 114, 115, 116, 117, 118, 119, 120, 121, 122]\n",
      "sub-cacae171ee15\n",
      "[28, 29, 30, 31, 32, 33, 34, 35, 36, 37, 38, 39, 86, 87, 88, 89, 90, 91, 92, 93, 94]\n",
      "sub-fccb4adbfadc\n",
      "[51, 52, 53, 54, 55, 56, 57, 58, 59, 60, 96, 97, 98, 99, 100, 101, 102, 103, 104, 105, 106, 107, 108]\n",
      "sub-14c725b6b803\n",
      "[29, 30, 31, 32, 33, 34, 35, 67, 68, 69, 70, 71, 72, 73, 74, 75, 76, 77, 78, 79, 80, 81, 82, 83, 84, 85, 86, 87, 88, 89, 90, 91, 92, 93]\n",
      "sub-26176ef8a8d0\n",
      "[32, 33, 34, 35, 36, 37, 38, 39, 66, 67, 68, 69, 70, 71, 72]\n",
      "sub-a4e7fc9daa96\n",
      "[51, 52, 53, 54, 55, 56, 57, 58, 59, 60, 61]\n",
      "sub-83ebd5328120\n",
      "[26, 27, 28, 29, 30, 31, 32, 33, 34, 35, 87, 88, 89, 90, 91, 92, 93, 94, 95, 96, 97, 98, 99]\n",
      "sub-c2a96116ddc4\n",
      "[87, 88, 89, 90, 91, 92, 93, 94, 95, 96, 97, 98, 99]\n",
      "sub-45a6830d263e\n",
      "[55, 56, 57, 58, 59, 60, 61, 62, 63]\n",
      "sub-4247d6d6cdbf\n",
      "[31, 32, 33, 34, 35, 36, 37, 38, 39, 65, 66, 67, 68, 69, 70, 71, 72, 73, 74]\n",
      "sub-3ef8645f99c5\n",
      "[88, 89, 90, 91, 92, 93, 94, 95, 96, 97, 98, 99]\n",
      "sub-c1b7ce54ce05\n",
      "[91, 92, 93, 94, 95, 96, 97, 98, 99, 100, 101, 102, 103]\n",
      "sub-aea837fa1826\n",
      "[95, 96, 97, 98, 99, 100, 101, 102, 103, 104, 105, 106, 107, 108, 109, 110, 111, 112, 113, 114, 115, 116]\n",
      "sub-9d783b836f5e\n",
      "[18, 19, 20, 21, 22, 23, 24, 25, 26, 57, 58, 59, 60, 61, 62, 63, 64, 65, 66, 67, 68, 69, 113, 114, 115, 116, 117, 118, 119, 120, 121, 122]\n"
     ]
    }
   ],
   "source": [
    "ch_H_i={}\n",
    "zdata={}\n",
    "for isub, subject in enumerate(subject_list):\n",
    "    print(subject)\n",
    "    zdata[subject]={}\n",
    "    \n",
    "    \n",
    "    with h5py.File(pjoin(path+ 'seeg_data_h5py/h5_electrodes/', subject + '_electrodes.hdf5'), 'r') as f:\n",
    "            \n",
    "        #print(f.keys())\n",
    "        #print('chnames', f['chnames'].shape)\n",
    "\n",
    "        chnames = f['chnames'][...].astype('U')\n",
    "        x=f['chlocs']\n",
    "\n",
    "    #Here we load the list of bad channels\n",
    "    with h5py.File(pjoin(path + 'seeg_data_h5py/h5_misc/', subject + '_misc.hdf5'), 'r') as f:\n",
    "        #print(f.keys())\n",
    "        #print('outlier_chans', f['outlier_chans']['strict_bads_names'])\n",
    "\n",
    "        bad_chans = f['outlier_chans']['strict_bads_names'][...].astype('U')\n",
    "        #mu_bad_epo = f['outlier_epochs']['music']['strict_bads_epochs'][...]\n",
    "        #sp_bad_epo = f['outlier_epochs']['speech']['strict_bads_epochs'][...]\n",
    "\n",
    "    ## Cleaning from artifacts\n",
    "    #List of bad channels indices\n",
    "    ch_i = [i for i, ch in enumerate(chnames) if ch in bad_chans]\n",
    "\n",
    "    clean_chnames = [ch for i, ch in enumerate(chnames) if ch not in bad_chans]\n",
    "    ch_H_i[subject]= [i for i, ch in enumerate(clean_chnames) if ch in ch_H]\n",
    "    \n",
    "    print(ch_H_i[subject])\n",
    "    \n",
    "sv.saving(ch_H_i, path+\"H_channels_indices_subjects\")\n",
    "    \n",
    "    "
   ]
  },
  {
   "cell_type": "code",
   "execution_count": 6,
   "id": "37d6dd71",
   "metadata": {},
   "outputs": [
    {
     "name": "stdout",
     "output_type": "stream",
     "text": [
      "(110, 56670)\n",
      "(110, 57837)\n",
      "(110, 57470)\n"
     ]
    }
   ],
   "source": [
    "\n",
    "#PARAMETERS\n",
    "\n",
    "dataused=''\n",
    "\n",
    "subject_list=subject_list\n",
    "\n",
    "final_channels_without_H={}\n",
    "\n",
    "final_channels_H={}\n",
    "\n",
    "final_channels_all={}\n",
    "\n",
    "dataused='without_H'\n",
    "\n",
    "datatipe=\"hgenv_down100\"\n",
    "\n",
    "zdata={}\n",
    "\n",
    "ch_H_i={}\n",
    "for isub, subject in enumerate(subject_list):\n",
    "    \n",
    "    zdata[subject]={}\n",
    "    \n",
    "    for sound in sound_list:\n",
    "    \n",
    "        ## Load the data from the HDF fil\n",
    "        #print(subject, isub)    \n",
    "        #Loading the data\n",
    "        with h5py.File(pjoin(path+'seeg_data_hgenv_down100_h5py/', subject + '_down100_seeg_preproc.hdf5'), 'r') as f:\n",
    "            #print(f.keys())\n",
    "            #print('music', f['music'].shape)\n",
    "\n",
    "            #data_music[subject]=f['music'][...]\n",
    "            data_raw=f[sound][...]\n",
    "            \n",
    "            #Here we delete the time point of the rest that correspond to the end and beginning of the three sessions\n",
    "            if sound=='rest':\n",
    "                index_del=np.concatenate((np.arange(int(len(data_raw[0,:])/3)-200,int(len(data_raw[0,:])/3)+200),np.arange(int(len(data_raw[0,:])*2/3)-200,int(len(data_raw[0,:])*2/3)+200)))   \n",
    "                data_raw=np.delete(data_raw, index_del, axis=1)\n",
    "\n",
    "            data_raw=data_raw[:,100:-100]\n",
    "\n",
    "        #Here we load the channels names\n",
    "        with h5py.File(pjoin(path+ 'seeg_data_h5py/h5_electrodes/', subject + '_electrodes.hdf5'), 'r') as f:\n",
    "            \n",
    "            #print(f.keys())\n",
    "            #print('chnames', f['chnames'].shape)\n",
    "\n",
    "            chnames = f['chnames'][...].astype('U')\n",
    "            x=f['chlocs']\n",
    "\n",
    "        #Here we load the list of bad channels\n",
    "        with h5py.File(pjoin(path + 'seeg_data_h5py/h5_misc/', subject + '_misc.hdf5'), 'r') as f:\n",
    "            #print(f.keys())\n",
    "            #print('outlier_chans', f['outlier_chans']['strict_bads_names'])\n",
    "\n",
    "            bad_chans = f['outlier_chans']['strict_bads_names'][...].astype('U')\n",
    "            #mu_bad_epo = f['outlier_epochs']['music']['strict_bads_epochs'][...]\n",
    "            #sp_bad_epo = f['outlier_epochs']['speech']['strict_bads_epochs'][...]\n",
    "\n",
    "        ## Cleaning from artifacts\n",
    "        #List of bad channels indices\n",
    "        ch_i = [i for i, ch in enumerate(chnames) if ch in bad_chans]\n",
    "\n",
    "        clean_chnames = [ch for i, ch in enumerate(chnames) if ch not in bad_chans]\n",
    "\n",
    "        clean= np.delete(data_raw, ch_i, axis=0)\n",
    "\n",
    "        #List of indices of H channels, list of indices of not H channels\n",
    "        ch_H_i[subject]= [i for i, ch in enumerate(clean_chnames) if ch not in ch_H]\n",
    "        ch_H_w_i= [i for i, ch in enumerate(clean_chnames) if ch in ch_H]\n",
    "\n",
    "        #dictionaries with subjects ad keys and channels names\n",
    "        final_channels_without_H[subject]=[ch for i, ch in enumerate(clean_chnames) if i in ch_H_i[subject]]\n",
    "        final_channels_H[subject]=[ch for i, ch in enumerate(clean_chnames) if i not in ch_H_i[subject]]\n",
    "        final_channels_all[subject]=clean_chnames\n",
    "\n",
    "        #The final channels that we used\n",
    "        final_channels=clean_chnames\n",
    "\n",
    "\n",
    "        #HERE WE CREATE THE DATA SET, THAT WE USE\n",
    "        #only the channels in Helsch gyrus\n",
    "        clean_H = np.delete(clean, ch_H_i[subject], axis=0)\n",
    "\n",
    "        #only the channels not in the helsch gyrus\n",
    "        clean_without_H = np.delete(clean, ch_H_w_i, axis=0)\n",
    "\n",
    "        #clean_mu=clean2(clean_music_H, N=3)\n",
    "        #clean_sp=clean2(clean_speech_H, N=3)\n",
    "        #clean_re=clean2(clean_rest_H, N=3)\n",
    "\n",
    "        #zscore of the data\n",
    "        zdata_art=stats.zscore(clean, axis=1)\n",
    "\n",
    "        #the artifacts are substituted by 0\n",
    "        zdata_=np.where(np.abs(zdata_art)>5, 0, zdata_art)\n",
    "\n",
    "        \n",
    "        #zscored computed again\n",
    "        zdata[subject][sound]=stats.zscore(zdata_, axis=1)\n",
    "    \n",
    "#sv.saving(zdata, path+\"data_subject_sound_\" + datatipe)\n",
    "#sv.saving(ch_H_i, path+\"H_channels_indices_subjects\")\n",
    "        if subject==  'sub-e0bb6ccef2a5':\n",
    "            print(zdata[subject][sound].shape)\n"
   ]
  },
  {
   "cell_type": "code",
   "execution_count": 7,
   "id": "2b9c7be5",
   "metadata": {},
   "outputs": [
    {
     "name": "stdout",
     "output_type": "stream",
     "text": [
      "3.334984151824247\n",
      "2.78534246404477\n",
      "2.750861898649132\n",
      "2.897258743666651\n",
      "2.803148765547773\n",
      "2.7331326834817284\n",
      "2.734310175019014\n",
      "2.8552720483703933\n",
      "2.7507264122036497\n",
      "2.79738475441734\n",
      "2.7742837529435107\n",
      "2.8089245753814596\n",
      "2.7985919037396925\n",
      "2.8138171563785437\n",
      "2.7761437719778965\n",
      "2.818625307029934\n",
      "2.774284818922206\n",
      "2.9744978125454247\n",
      "2.7654285000333187\n"
     ]
    }
   ],
   "source": [
    "#datatipe=\"hgenv_down100\"\n",
    "ap={} #here the activity profile of each subject is stored\n",
    "#data=sv.loading( path+\"data_subject_sound_\" + datatipe)\n",
    "for subject in subject_list:\n",
    "    ap[subject]={}\n",
    "    avalanches={}\n",
    "    \n",
    "    #the threshold is derived as the 99th percentile of the data\n",
    "    thres=np.percentile(zdata[subject]['rest'], 99)\n",
    "    print(thres)\n",
    "    \n",
    "    for sound in sound_list:\n",
    "        \n",
    "        #avalanches dictionaries are computed using the functions of Utils_avalanches.py\n",
    "        avalanches[sound]=av.go_avalanches(zdata[subject][sound].T, thre=thres, direc=0, binsize=2)\n",
    "\n",
    "        ap[subject][sound]=np.sum(avalanches[sound]['Zbin'].T, axis=0)\n",
    "        "
   ]
  },
  {
   "attachments": {},
   "cell_type": "markdown",
   "id": "01e7c379",
   "metadata": {},
   "source": [
    "Here we create a matrix, whose lines are ap of different subjects"
   ]
  },
  {
   "cell_type": "code",
   "execution_count": 8,
   "id": "79867b4c",
   "metadata": {},
   "outputs": [],
   "source": [
    "\n",
    "ap_matrix={} \n",
    "for sound in sound_list:\n",
    "    ap_matrix[sound]=np.zeros((len(subject_list), len(ap[subject_list[0]][sound])))\n",
    "    for isub, subject in enumerate(subject_list):\n",
    "        ap_matrix[sound][isub,:]=ap[subject][sound]\n",
    "    "
   ]
  },
  {
   "attachments": {},
   "cell_type": "markdown",
   "id": "ce6b50d8",
   "metadata": {},
   "source": [
    "Here the correlation matrices (subject x subject) are computed, using the Pearson correlation. Also using the Spearman correlation the results are significant"
   ]
  },
  {
   "cell_type": "code",
   "execution_count": 9,
   "id": "86324282",
   "metadata": {},
   "outputs": [],
   "source": [
    "corr_matrix={}\n",
    "for sound in sound_list:\n",
    "    corr_matrix[sound]=np.corrcoef(ap_matrix[sound])  \n",
    "    "
   ]
  },
  {
   "attachments": {},
   "cell_type": "markdown",
   "id": "dca28c71",
   "metadata": {},
   "source": [
    "Here the correlation matrices are plotted."
   ]
  },
  {
   "cell_type": "code",
   "execution_count": 10,
   "id": "269b04ec",
   "metadata": {},
   "outputs": [
    {
     "data": {
      "image/png": "[encoded data removed]",
      "text/plain": [
       "<Figure size 175x175 with 2 Axes>"
      ]
     },
     "metadata": {},
     "output_type": "display_data"
    },
    {
     "data": {
      "image/png": "[encoded data removed]",
      "text/plain": [
       "<Figure size 175x175 with 1 Axes>"
      ]
     },
     "metadata": {},
     "output_type": "display_data"
    },
    {
     "data": {
      "image/png": "[encoded data removed]",
      "text/plain": [
       "<Figure size 175x175 with 1 Axes>"
      ]
     },
     "metadata": {},
     "output_type": "display_data"
    }
   ],
   "source": [
    "sv.saving(corr_matrix, 'matrix_corr_'+dataused)\n",
    "vm=0.2\n",
    "cl='viridis'\n",
    "\n",
    "for sound in sound_list:\n",
    "    \n",
    "    a,b=0,0.1\n",
    "    plt.figure(figsize=(1.75,1.75))\n",
    "    #plt.title('Backbone',fontsize=MEDIUM_SIZE)\n",
    "    plt.imshow(corr_matrix[sound],cmap=cl,interpolation='nearest',vmax=vm,)\n",
    "    for i in range(len(subject_list)):\n",
    "        plt.axvline(i-0.5,linewidth=0.15,color='lightsteelblue')\n",
    "        plt.axhline(i-0.5,linewidth=0.15,color='lightsteelblue')\n",
    "    plt.yticks([])\n",
    "    plt.xticks([])\n",
    "    if sound=='rest':\n",
    "        plt.colorbar(orientation = 'horizontal', shrink=1, aspect=5)\n",
    "    plt.tight_layout()\n",
    "    #plt.savefig('dyn_corr_matrix_AP_colorbar'+sound+'_'+dataused+'.png', dpi=600)\n",
    "    plt.show()"
   ]
  },
  {
   "cell_type": "markdown",
   "id": "64beb3a5",
   "metadata": {},
   "source": [
    "### Here we compute the p value between the different correlation matrices"
   ]
  },
  {
   "cell_type": "code",
   "execution_count": 11,
   "id": "ab15f930",
   "metadata": {},
   "outputs": [
    {
     "data": {
      "text/plain": [
       "2.2346957569150894e-05"
      ]
     },
     "execution_count": 11,
     "metadata": {},
     "output_type": "execute_result"
    }
   ],
   "source": [
    "stats.wilcoxon(corr_matrix['music'][np.triu_indices(19, k = 1)],corr_matrix['rest'][np.triu_indices(19, k = 1)])[1]"
   ]
  },
  {
   "attachments": {},
   "cell_type": "markdown",
   "id": "ef26e374",
   "metadata": {},
   "source": [
    "Surrogate data procedure"
   ]
  },
  {
   "cell_type": "code",
   "execution_count": 12,
   "id": "10b4e2d8",
   "metadata": {},
   "outputs": [
    {
     "ename": "AttributeError",
     "evalue": "module 'avalanches' has no attribute 'shifting_matrix'",
     "output_type": "error",
     "traceback": [
      "\u001b[1;31m---------------------------------------------------------------------------\u001b[0m",
      "\u001b[1;31mAttributeError\u001b[0m                            Traceback (most recent call last)",
      "Cell \u001b[1;32mIn[12], line 9\u001b[0m\n\u001b[0;32m      5\u001b[0m     list_mean_corr[sound]\u001b[38;5;241m=\u001b[39m[]\n\u001b[0;32m      7\u001b[0m     \u001b[38;5;28;01mfor\u001b[39;00m i \u001b[38;5;129;01min\u001b[39;00m \u001b[38;5;28mrange\u001b[39m(num_it):\n\u001b[1;32m----> 9\u001b[0m         ap_shift\u001b[38;5;241m=\u001b[39m\u001b[43mav\u001b[49m\u001b[38;5;241;43m.\u001b[39;49m\u001b[43mshifting_matrix\u001b[49m(ap_matrix[sound])\n\u001b[0;32m     10\u001b[0m         list_mean_corr[sound]\u001b[38;5;241m.\u001b[39mappend(np\u001b[38;5;241m.\u001b[39mmean(np\u001b[38;5;241m.\u001b[39mcorrcoef(ap_shift)[np\u001b[38;5;241m.\u001b[39mtriu_indices(\u001b[38;5;241m19\u001b[39m, k \u001b[38;5;241m=\u001b[39m \u001b[38;5;241m1\u001b[39m)]))\n\u001b[0;32m     11\u001b[0m \u001b[38;5;28;01mfor\u001b[39;00m sound \u001b[38;5;129;01min\u001b[39;00m sound_list:\n",
      "\u001b[1;31mAttributeError\u001b[0m: module 'avalanches' has no attribute 'shifting_matrix'"
     ]
    }
   ],
   "source": [
    "list_mean_corr={}\n",
    "\n",
    "num_it=1000\n",
    "for sound in sound_list:\n",
    "    list_mean_corr[sound]=[]\n",
    "\n",
    "    for i in range(num_it):\n",
    "\n",
    "        ap_shift=av.shifting_matrix(ap_matrix[sound])\n",
    "        list_mean_corr[sound].append(np.mean(np.corrcoef(ap_shift)[np.triu_indices(19, k = 1)]))\n",
    "for sound in sound_list:\n",
    "    \n",
    "    plt.figure(figsize=(3.5,2.6))\n",
    "    plt.hist(list_mean_corr[sound], label='random shift')\n",
    "    plt.axvline(x=np.mean(np.corrcoef(ap_matrix[sound])[np.triu_indices(19, k = 1)]), label='our result')\n",
    "    plt.title(sound, fontsize=14)\n",
    "    plt.legend(fontsize=8)\n",
    "    plt.savefig(path+'figure/comparison_null_music_env_H'+dataused+'.png', dpi=600)\n",
    "    plt.show()\n",
    "    plt.close()\n",
    "    \n",
    "sv.saving(list_mean_corr, path+\"list_random_correlation_dict\"+dataused)"
   ]
  },
  {
   "cell_type": "code",
   "execution_count": 12,
   "id": "6d187f8a",
   "metadata": {},
   "outputs": [],
   "source": [
    "bin_size_max = 2000\n",
    "binsizes=np.arange(1, bin_size_max+1)\n",
    "\n",
    "ap = {}\n",
    "ap_matrix = {}\n",
    "list_mean_corr = {}\n",
    "z_stats={}\n",
    "real_intersubcorr={}\n",
    "real_intersubcorr_std={}\n",
    "p_value_speech_music = {}\n",
    "p_value_speech_rest = {}\n",
    "p_value_music_rest = {}\n",
    "\n",
    "for bins in binsizes:\n",
    "\n",
    "    #datatipe=\"hgenv_down100\"\n",
    "    ap[bins]={} #here the activity profile of each subject is stored\n",
    "    #data=sv.loading( path+\"data_subject_sound_\" + datatipe)\n",
    "    for subject in subject_list:\n",
    "        ap[bins][subject]={}\n",
    "        avalanches={}\n",
    "        \n",
    "        #the threshold is derived as the 99th percentile of the data\n",
    "        thres=np.percentile(zdata[subject]['rest'], 99)\n",
    "        \n",
    "        for sound in sound_list:\n",
    "            \n",
    "            #avalanches dictionaries are computed using the functions of Utils_avalanches.py\n",
    "            avalanches[sound]=av.go_avalanches(zdata[subject][sound].T, thre=thres, direc=0, binsize=bins)\n",
    "\n",
    "            ap[bins][subject][sound]=np.sum(avalanches[sound]['Zbin'].T, axis=0)\n",
    "\n",
    "    real_intersubcorr[bins]={}\n",
    "    real_intersubcorr_std[bins]={}\n",
    "\n",
    "    ap_matrix[bins]={} \n",
    "    for sound in sound_list:\n",
    "        ap_matrix[bins][sound]=np.zeros((len(subject_list), len(ap[bins][subject_list[0]][sound])))\n",
    "        for isub, subject in enumerate(subject_list):\n",
    "            ap_matrix[bins][sound][isub,:]=ap[bins][subject][sound]\n",
    "        real_intersubcorr[bins][sound] = np.mean(np.corrcoef(ap_matrix[bins][sound])[np.triu_indices(19, k = 1)]) \n",
    "        real_intersubcorr_std[bins][sound] = np.std(np.corrcoef(ap_matrix[bins][sound])[np.triu_indices(19, k = 1)]) \n",
    "\n",
    "    p_value_speech_music[bins]=stats.wilcoxon(np.corrcoef(ap_matrix[bins]['speech'])[np.triu_indices(19, k = 1)], np.corrcoef(ap_matrix[bins]['music'])[np.triu_indices(19, k = 1)])[1]\n",
    "    p_value_speech_rest[bins]=stats.wilcoxon(np.corrcoef(ap_matrix[bins]['speech'])[np.triu_indices(19, k = 1)], np.corrcoef(ap_matrix[bins]['rest'])[np.triu_indices(19, k = 1)])[1]\n",
    "    p_value_music_rest[bins]=stats.wilcoxon(np.corrcoef(ap_matrix[bins]['music'])[np.triu_indices(19, k = 1)], np.corrcoef(ap_matrix[bins]['rest'])[np.triu_indices(19, k = 1)])[1]\n",
    "\n",
    "    "
   ]
  },
  {
   "cell_type": "code",
   "execution_count": 16,
   "id": "ee140d0e",
   "metadata": {},
   "outputs": [],
   "source": [
    "sv.saving(real_intersubcorr, 'results_Binsizes_mean_corr_dict')\n",
    "sv.saving(real_intersubcorr_std, 'results_Binsizes_std_corr_dict')\n",
    "sv.saving(p_value_speech_music, 'results_Binsizes_p_spmu_dict')\n",
    "sv.saving(p_value_speech_rest, 'results_Binsizes_p_spre_dict')\n",
    "sv.saving(p_value_music_rest, 'results_Binsizes_p_mure_dict')\n"
   ]
  },
  {
   "cell_type": "code",
   "execution_count": 50,
   "id": "dc09f0f0",
   "metadata": {},
   "outputs": [
    {
     "data": {
      "image/png": "[encoded data removed]",
      "text/plain": [
       "<Figure size 500x320 with 1 Axes>"
      ]
     },
     "metadata": {},
     "output_type": "display_data"
    }
   ],
   "source": [
    "binsizes=np.arange(1, bin_size_max)\n",
    "max_bin_forplot=2000\n",
    "\n",
    "plt.figure(figsize=(5,3.2))\n",
    "\n",
    "bin_rel_corrtoplot={}\n",
    "for sound in sound_list:\n",
    "    bin_rel_corrtoplot[sound]=[]\n",
    "\n",
    "    for bins in binsizes[:max_bin_forplot]:\n",
    "\n",
    "        bin_rel_corrtoplot[sound].append(real_intersubcorr[bins][sound])\n",
    "\n",
    "    plt.plot(bin_rel_corrtoplot[sound], color=colors[sound], label=sound)\n",
    "\n",
    "plt.gca().spines['top'].set_visible(False)\n",
    "plt.gca().spines['right'].set_visible(False)\n",
    "xtick=list(np.arange(0,21))\n",
    "xtick[0]=0.01\n",
    "plt.xticks(np.arange(0,2001)[::100], xtick , rotation=60)\n",
    "plt.tight_layout(pad=2)\n",
    "plt.savefig('binsizes_effect_max_1000.png', dpi=600)\n",
    "plt.legend(fontsize=7)\n",
    "plt.show()\n",
    "plt.close()\n",
    "\n",
    "sv.saving(bin_rel_corrtoplot, path+'results_Binsizes_mean_corr_dict')\n"
   ]
  },
  {
   "cell_type": "code",
   "execution_count": null,
   "id": "95162f76",
   "metadata": {},
   "outputs": [],
   "source": [
    "th_max=99\n",
    "th_min=50\n",
    "ap_th = {}\n",
    "ap_matrix_th = {}\n",
    "list_mean_corr_th = {}\n",
    "z_stats_th={}\n",
    "real_intersubcorr_th={}\n",
    "real_intersubcorr_th_std={}\n",
    "thresholds = np.arange(th_min,th_max)\n",
    "\n",
    "\n",
    "for th in thresholds:\n",
    "\n",
    "    #datatipe=\"hgenv_down100\"\n",
    "    ap_th[th]={} #here the activity profile of each subject is stored\n",
    "    #data=sv.loading( path+\"data_subject_sound_\" + datatipe)\n",
    "    for subject in subject_list:\n",
    "        ap_th[th][subject]={}\n",
    "        avalanches={}\n",
    "        \n",
    "        #the threshold is derived as the 99th percentile of the data\n",
    "        thres=np.percentile(np.abs(zdata[subject]['rest']), th)\n",
    "        \n",
    "        for sound in sound_list:\n",
    "            \n",
    "            #avalanches dictionaries are computed using the functions of Utils_avalanches.py\n",
    "            avalanches[sound]=av.go_avalanches(zdata[subject][sound].T, thre=thres, direc=0, binsize=2)\n",
    "\n",
    "            ap_th[th][subject][sound]=np.sum(avalanches[sound]['Zbin'].T, axis=0)\n",
    "\n",
    "    real_intersubcorr_th[th]={}\n",
    "    real_intersubcorr_th_std[th]={}\n",
    "    ap_matrix_th[th]={} \n",
    "    for sound in sound_list:\n",
    "        ap_matrix_th[th][sound]=np.zeros((len(subject_list), len(ap_th[th][subject_list[0]][sound])))\n",
    "        for isub, subject in enumerate(subject_list):\n",
    "            ap_matrix_th[th][sound][isub,:]=ap_th[th][subject][sound]\n",
    "        real_intersubcorr_th[th][sound] = np.mean(np.corrcoef(ap_matrix_th[th][sound])[np.triu_indices(19, k = 1)]) \n",
    "        real_intersubcorr_th_std[th][sound]= np.std(np.corrcoef(ap_matrix_th[th][sound])[np.triu_indices(19, k = 1)]) \n",
    "\n",
    "    "
   ]
  },
  {
   "cell_type": "code",
   "execution_count": null,
   "id": "533f9db3",
   "metadata": {},
   "outputs": [
    {
     "data": {
      "image/png": "[encoded data removed]",
      "text/plain": [
       "<Figure size 420x320 with 1 Axes>"
      ]
     },
     "metadata": {},
     "output_type": "display_data"
    }
   ],
   "source": [
    "\n",
    "th_rel_corrtoplot={}\n",
    "real_intersubcorr_th_stdtoplot={}\n",
    "\n",
    "plt.figure(figsize=(4.2,3.2))\n",
    "for sound in sound_list:\n",
    "    th_rel_corrtoplot[sound]=[]\n",
    "    real_intersubcorr_th_stdtoplot[sound]=[]\n",
    "    for th in thresholds:\n",
    "\n",
    "        th_rel_corrtoplot[sound].append(real_intersubcorr_th[th][sound])\n",
    "        real_intersubcorr_th_stdtoplot[sound].append(real_intersubcorr_th_std[th][sound])\n",
    "    plt.plot(th_rel_corrtoplot[sound],  color=colors[sound], label=sound)\n",
    "\n",
    "xticks=list(np.arange(50,99,5))\n",
    "xticks.append(99)\n",
    "aa=list(np.arange(0,49,5))\n",
    "aa.append(49)\n",
    "plt.gca().spines['top'].set_visible(False)\n",
    "plt.gca().spines['right'].set_visible(False)\n",
    "plt.xticks(aa, xticks, rotation=60)\n",
    "plt.legend(fontsize=12)\n",
    "plt.tight_layout(pad=2)\n",
    "plt.savefig('threshold_effect_max.png', dpi=600)\n",
    "plt.show()\n",
    "plt.close()\n",
    "\n",
    "sv.saving(bin_rel_corrtoplot, path+'results_Binsizes_mean_corr_dict')\n",
    "\n"
   ]
  },
  {
   "cell_type": "code",
   "execution_count": null,
   "id": "b151d681",
   "metadata": {},
   "outputs": [],
   "source": [
    "for bins in range(bin_size_max):\n",
    "\n",
    "    list_mean_corr[bins]={}\n",
    "\n",
    "\n",
    "    num_it=1000\n",
    "    for sound in sound_list:\n",
    "        list_mean_corr[bins][sound]=[]\n",
    "\n",
    "        for i in range(num_it):\n",
    "\n",
    "            ap_shift=av.shifting_matrix(ap_matrix[bins][sound])\n",
    "            list_mean_corr[bins][sound].append(np.mean(np.corrcoef(ap_shift)[np.triu_indices(19, k = 1)]))\n",
    "    \n",
    "    z_stats[bins]={}\n",
    "\n",
    "    for sound in sound_list:\n",
    "        \n",
    "        x = np.mean(np.corrcoef(ap_matrix[bins][sound])[np.triu_indices(19, k = 1)])\n",
    "        z_stat[bins][sound].append(real_intersubcorr[bins][sound]-np.mean(list_mean_corr[bins][sound]))/(np.std))\n",
    "        "
   ]
  },
  {
   "cell_type": "code",
   "execution_count": 56,
   "id": "d3fd7040",
   "metadata": {},
   "outputs": [],
   "source": [
    "list_random= sv.loading(path+\"list_random_correlation_dict_H\"+dataused)"
   ]
  },
  {
   "cell_type": "code",
   "execution_count": 57,
   "id": "d8b9f665",
   "metadata": {},
   "outputs": [
    {
     "name": "stdout",
     "output_type": "stream",
     "text": [
      "rest 0.411\n",
      "music 0.098\n",
      "speech 0.007\n"
     ]
    }
   ],
   "source": [
    "for sound in sound_list:\n",
    "    p=np.sum(np.where(list_random[sound]>np.mean(np.corrcoef(rss_matrix[sound])[np.triu_indices(19, k = 1)]),1,0))/1000\n",
    "    print(sound, p)"
   ]
  },
  {
   "cell_type": "markdown",
   "id": "3a232e8f",
   "metadata": {},
   "source": [
    "### Here we compute the intersubject correlation samplig one channel per region"
   ]
  },
  {
   "cell_type": "code",
   "execution_count": 4,
   "id": "28f9a3f8",
   "metadata": {},
   "outputs": [
    {
     "name": "stdout",
     "output_type": "stream",
     "text": [
      "0\n"
     ]
    },
    {
     "ename": "NameError",
     "evalue": "name 'ch_H_i' is not defined",
     "output_type": "error",
     "traceback": [
      "\u001b[1;31m---------------------------------------------------------------------------\u001b[0m",
      "\u001b[1;31mNameError\u001b[0m                                 Traceback (most recent call last)",
      "Cell \u001b[1;32mIn[4], line 85\u001b[0m\n\u001b[0;32m     82\u001b[0m clean\u001b[38;5;241m=\u001b[39m np\u001b[38;5;241m.\u001b[39mdelete(clea,  ch_i_sim, axis\u001b[38;5;241m=\u001b[39m\u001b[38;5;241m0\u001b[39m)\n\u001b[0;32m     84\u001b[0m \u001b[38;5;66;03m#List of indices of H channels, list of indices of not H channels\u001b[39;00m\n\u001b[1;32m---> 85\u001b[0m \u001b[43mch_H_i\u001b[49m[subject]\u001b[38;5;241m=\u001b[39m [i \u001b[38;5;28;01mfor\u001b[39;00m i, ch \u001b[38;5;129;01min\u001b[39;00m \u001b[38;5;28menumerate\u001b[39m(clean_chnames_sim) \u001b[38;5;28;01mif\u001b[39;00m ch \u001b[38;5;129;01mnot\u001b[39;00m \u001b[38;5;129;01min\u001b[39;00m ch_H]\n\u001b[0;32m     86\u001b[0m ch_H_w_i\u001b[38;5;241m=\u001b[39m [i \u001b[38;5;28;01mfor\u001b[39;00m i, ch \u001b[38;5;129;01min\u001b[39;00m \u001b[38;5;28menumerate\u001b[39m(clean_chnames_sim) \u001b[38;5;28;01mif\u001b[39;00m ch \u001b[38;5;129;01min\u001b[39;00m ch_H]\n\u001b[0;32m     88\u001b[0m \u001b[38;5;66;03m#dictionaries with subjects ad keys and channels names\u001b[39;00m\n",
      "\u001b[1;31mNameError\u001b[0m: name 'ch_H_i' is not defined"
     ]
    }
   ],
   "source": [
    "n_iteration=1000\n",
    "\n",
    "zdata={}\n",
    "real_corr_sim={}\n",
    "null_mod_corr_sim={}\n",
    "\n",
    "for sound in sound_list:\n",
    "\n",
    "    real_corr_sim[sound]=list()\n",
    "    null_mod_corr_sim[sound]=list()\n",
    "\n",
    "for n in range(n_iteration):\n",
    "    \n",
    "    print(n)\n",
    "\n",
    "\n",
    "    for subject in subject_list:\n",
    "        zdata[subject]={}\n",
    "        for sound in sound_list:\n",
    "            with h5py.File(pjoin(path+'seeg_data_hgenv_down100_h5py/', subject + '_down100_seeg_preproc.hdf5'), 'r') as f:\n",
    "                #print(f.keys())\n",
    "                #print('music', f['music'].shape)\n",
    "\n",
    "                #data_music[subject]=f['music'][...]\n",
    "                data_raw=f[sound][...]\n",
    "                \n",
    "            #Here we delete the time point of the rest that correspond to the end and beginning of the three sessions\n",
    "            if sound=='rest':\n",
    "                index_del=np.concatenate((np.arange(int(len(data_raw[0,:])/3)-200,int(len(data_raw[0,:])/3)+200),np.arange(int(len(data_raw[0,:])*2/3)-200,int(len(data_raw[0,:])*2/3)+200)))   \n",
    "                data_raw=np.delete(data_raw, index_del, axis=1)\n",
    "\n",
    "            data_raw=data_raw[:,100:-100]\n",
    "\n",
    "            #Here we load the channels names\n",
    "            with h5py.File(pjoin(path+ 'seeg_data_h5py/h5_electrodes/', subject + '_electrodes.hdf5'), 'r') as f:\n",
    "                \n",
    "                #print(f.keys())\n",
    "                #print('chnames', f['chnames'].shape)\n",
    "\n",
    "                chnames = f['chnames'][...].astype('U')\n",
    "                x=f['chlocs']\n",
    "\n",
    "            #Here we load the list of bad channels\n",
    "            with h5py.File(pjoin(path + 'seeg_data_h5py/h5_misc/', subject + '_misc.hdf5'), 'r') as f:\n",
    "                #print(f.keys())\n",
    "                #print('outlier_chans', f['outlier_chans']['strict_bads_names'])\n",
    "\n",
    "                bad_chans = f['outlier_chans']['strict_bads_names'][...].astype('U')\n",
    "                #mu_bad_epo = f['outlier_epochs']['music']['strict_bads_epochs'][...]\n",
    "                #sp_bad_epo = f['outlier_epochs']['speech']['strict_bads_epochs'][...]\n",
    "\n",
    "\n",
    "            ## Cleaning from artifacts\n",
    "            #List of bad channels indices\n",
    "            ch_i = [i for i, ch in enumerate(chnames) if ch in bad_chans]\n",
    "\n",
    "            clean_chnames = [ch for i, ch in enumerate(chnames) if ch not in bad_chans]\n",
    "\n",
    "            with h5py.File(pjoin(path+'seeg_data_h5py/h5_electrodes/', subject + '_electrodes.hdf5'), 'r') as f:\n",
    "                \n",
    "                chnames = f['chnames'][...].astype('U')\n",
    "                \n",
    "                at=f['atlasses']['Brainnetome'][...]\n",
    "            \n",
    "            listR=[a[:13] for a in at]\n",
    "            list_goodR=np.delete(listR, ch_i)\n",
    "            setR=list(dict.fromkeys(list_goodR))\n",
    "            good_indices=[]\n",
    "            \n",
    "            for i in setR:\n",
    "                \n",
    "                indices=[j for j, r in enumerate(list_goodR) if r==i]\n",
    "                good_indices.append(np.random.choice(indices))\n",
    "\n",
    "            \n",
    "            clean_chnames = [ch for i, ch in enumerate(chnames) if ch not in bad_chans]\n",
    "            ch_i_sim = [i for i, ch in enumerate(clean_chnames) if i not in good_indices]\n",
    "            clean_chnames_sim= [ch for i, ch in enumerate(clean_chnames) if i in good_indices]\n",
    "            \n",
    "            clea = np.delete(data_raw, ch_i, axis=0)\n",
    "\n",
    "            clean= np.delete(clea,  ch_i_sim, axis=0)\n",
    "\n",
    "            #List of indices of H channels, list of indices of not H channels\n",
    "            ch_H_i[subject]= [i for i, ch in enumerate(clean_chnames_sim) if ch not in ch_H]\n",
    "            ch_H_w_i= [i for i, ch in enumerate(clean_chnames_sim) if ch in ch_H]\n",
    "\n",
    "            #dictionaries with subjects ad keys and channels names\n",
    "            final_channels_without_H[subject]=[ch for i, ch in enumerate(clean_chnames_sim) if i in ch_H_i[subject]]\n",
    "            final_channels_H[subject]=[ch for i, ch in enumerate(clean_chnames_sim) if i not in ch_H_i[subject]]\n",
    "            final_channels_all[subject]=clean_chnames_sim\n",
    "\n",
    "            #The final channels that we used\n",
    "            final_channels=clean_chnames_sim\n",
    "\n",
    "\n",
    "            #HERE WE CREATE THE DATA SET, THAT WE USE\n",
    "            #only the channels in Helsch gyrus\n",
    "            clean_H = np.delete(clean, ch_H_i[subject], axis=0)\n",
    "\n",
    "            #only the channels not in the helsch gyrus\n",
    "            clean_without_H = np.delete(clean, ch_H_w_i, axis=0)\n",
    "\n",
    "            #clean_mu=clean2(clean_music_H, N=3)\n",
    "            #clean_sp=clean2(clean_speech_H, N=3)\n",
    "            #clean_re=clean2(clean_rest_H, N=3)\n",
    "\n",
    "            #zscore of the data\n",
    "            zdata_art=stats.zscore(clean, axis=1)\n",
    "\n",
    "            #the artifacts are substituted by 0\n",
    "            zdata_=np.where(np.abs(zdata_art)>5, 0, zdata_art)\n",
    "\n",
    "            #zscored computed again\n",
    "            zdata[subject][sound]=stats.zscore(zdata_, axis=1)\n",
    "    \n",
    "    #datatipe=\"hgenv_down100\"\n",
    "    ap={} #here the activity profile of each subject is stored\n",
    "    #data=sv.loading( path+\"data_subject_sound_\" + datatipe)\n",
    "    for subject in subject_list:\n",
    "        ap[subject]={}\n",
    "        avalanches={}\n",
    "        \n",
    "        #the threshold is derived as the 99th percentile of the data\n",
    "        thres=np.percentile(zdata[subject]['rest'], 99)\n",
    "        #print(thres)\n",
    "        \n",
    "        for sound in sound_list:\n",
    "            \n",
    "            #avalanches dictionaries are computed using the functions of Utils_avalanches.py\n",
    "            avalanches[sound]=av.go_avalanches(zdata[subject][sound].T, thre=thres, direc=0, binsize=2)\n",
    "\n",
    "            ap[subject][sound]=np.sum(avalanches[sound]['Zbin'].T, axis=0)\n",
    "            \n",
    "    ap_matrix={} \n",
    "    for sound in sound_list:\n",
    "        ap_matrix[sound]=np.zeros((len(subject_list), len(ap[subject_list[0]][sound])))\n",
    "        for isub, subject in enumerate(subject_list):\n",
    "            ap_matrix[sound][isub,:]=ap[subject][sound]   \n",
    "                "
   ]
  },
  {
   "cell_type": "code",
   "execution_count": 11,
   "id": "283080d3",
   "metadata": {},
   "outputs": [],
   "source": [
    "sv.saving(real_corr_sim, 'results_sim_random_picking_1perregion')\n",
    "sv.saving(null_mod_corr_sim, 'results_null_model_sim_random_picking_1perregion')"
   ]
  },
  {
   "cell_type": "code",
   "execution_count": 10,
   "id": "262ad192",
   "metadata": {},
   "outputs": [],
   "source": [
    "real_corr_sim = sv.loading('results_sim_random_picking_1perregion')\n",
    "null_mod_corr_sim = sv.loading('results_null_model_sim_random_picking_1perregion')"
   ]
  },
  {
   "cell_type": "code",
   "execution_count": 11,
   "id": "cdd1bd8a",
   "metadata": {},
   "outputs": [],
   "source": [
    "for sound in sound_list:\n",
    "    real_corr_sim[sound] = np.array(real_corr_sim[sound])\n",
    "    null_mod_corr_sim[sound] = np.array(null_mod_corr_sim[sound])"
   ]
  },
  {
   "cell_type": "code",
   "execution_count": 111,
   "id": "8e0587cd",
   "metadata": {},
   "outputs": [
    {
     "name": "stdout",
     "output_type": "stream",
     "text": [
      "9.988276972830283e-48\n",
      "0.0\n",
      "0.0\n",
      "Ttest_indResult(statistic=14.906233064877647, pvalue=9.988276972830283e-48)\n",
      "Ttest_indResult(statistic=75.7654775417233, pvalue=0.0)\n",
      "Ttest_indResult(statistic=57.450744212169816, pvalue=0.0)\n"
     ]
    },
    {
     "data": {
      "image/png": "[encoded data removed]",
      "text/plain": [
       "<Figure size 370x300 with 1 Axes>"
      ]
     },
     "metadata": {},
     "output_type": "display_data"
    }
   ],
   "source": [
    "\n",
    "C1 = {'s': '#93cb90', 'm': '#ffa96b', 'r': '#6da3cc'}\n",
    "#C2 = {     'sr': '#803b7f',    'mr': '#c0896f',    'sm': '#b6d12d'}\n",
    "plt.figure(figsize=(3.7,3))\n",
    "\n",
    "mpl.rcParams[\"axes.spines.right\"] = False\n",
    "mpl.rcParams[\"axes.spines.top\"] = False\n",
    "\n",
    "# dist_sp_re1=real_corr_sim['speech']-null_mod_corr_sim['speech']\n",
    "# dist_re_mu1=real_corr_sim['music']-null_mod_corr_sim['music']\n",
    "# dist_sp_mu1=real_corr_sim['rest']-null_mod_corr_sim['rest']\n",
    "\n",
    "dist_sp_re1=real_corr_sim['speech']\n",
    "dist_re_mu1=real_corr_sim['music']\n",
    "dist_sp_mu1=real_corr_sim['rest']\n",
    "\n",
    "#plt.axhline(0,alpha=0.3, linestyle=':',color='k')\n",
    "box_plot_data=[dist_sp_re1,dist_re_mu1,dist_sp_mu1]#[left_increase_list['speech']-right_increase_list['speech'],left_increase_list['music']-right_increase_list['music']]\n",
    "for i in np.arange(len(dist_sp_mu1))[::10]:\n",
    "    spmu=dist_sp_mu1[i]\n",
    "    remu=dist_re_mu1[i]\n",
    "    spre=dist_sp_re1[i]\n",
    "    eps1=(np.random.rand()-.5)*((1-spre*100))*0.05\n",
    "    eps2=(np.random.rand()-.5)*((1-remu*100))*0.05\n",
    "    eps3=(np.random.rand()-.5)*((1-spmu*100))*0.05\n",
    "    plt.scatter(1+eps1,spre,color=C1['s'],alpha=.5, s=5)#color=C2['sr']\n",
    "    plt.scatter(2+eps2,remu,color=C1['m'],alpha=.5, s=5)#color=C2['mr'],\n",
    "    plt.scatter(3+eps3,spmu,color=C1['r'],alpha=.5, s=5)#color=C2['sm']\n",
    "\n",
    "    # plt.scatter(1,spre,color=C1['s'],alpha=.5)\n",
    "    # plt.scatter(2,remu,color=C1['m'],alpha=.5)\n",
    "    # plt.scatter(3,spmu,color=C1['m'],alpha=.9)\n",
    "    # plt.scatter(1,spre,color=C1['r'],alpha=.5)\n",
    "    # plt.scatter(2,remu,color=C1['r'],alpha=.5)\n",
    "    # plt.scatter(3,spmu,color=C1['s'],alpha=.5)\n",
    "    '''if spre-remu<0:\n",
    "        plt.plot([1,2],[spre,remu],color='grey',alpha=0.4)\n",
    "    else:\n",
    "        plt.plot([1,2],[spre,remu],color='grey',alpha=0.4,linestyle='--')\n",
    "\n",
    "    if spmu-remu<0:\n",
    "        plt.plot([3,2],[spmu,remu],color='grey',alpha=0.4)\n",
    "    else:\n",
    "        plt.plot([3,2],[spmu,remu],color='grey',alpha=0.4,linestyle='--')'''\n",
    "\n",
    "plt.boxplot(box_plot_data,patch_artist=False,labels=['speech','music','rest'])\n",
    "psrmr=stats.ttest_ind(dist_sp_re1,dist_re_mu1)[1]\n",
    "psrsm=stats.ttest_ind(dist_sp_re1,dist_sp_mu1)[1]\n",
    "pmrsm=stats.ttest_ind(dist_re_mu1,dist_sp_mu1)[1]\n",
    "\n",
    "print(psrmr)\n",
    "print(psrsm)\n",
    "print(pmrsm)\n",
    "print(stats.ttest_ind(dist_sp_re1,dist_re_mu1))\n",
    "print(stats.ttest_ind(dist_sp_re1,dist_sp_mu1))\n",
    "print(stats.ttest_ind(dist_re_mu1,dist_sp_mu1))\n",
    "\n",
    "# p=Gtest(left_increase_list['speech']-right_increase_list['speech'],left_increase_list['music']-right_increase_list['music'])\n",
    "# print('Gio test  ', p)\n",
    "# print(stats.wilcoxon(left_increase_list['speech']-right_increase_list['speech'],left_increase_list['music']-right_increase_list['music']))\n",
    "# print('p_value music - speech ', pp)\n",
    "# print('p_value music - rest ', psr)\n",
    "# print('p_value music - rest ', pmr)\n",
    "\n",
    "to_min1=np.array([dist_sp_re1,dist_re_mu1,dist_sp_mu1])\n",
    "bottom1, top1 = np.min(to_min1), np.max(to_min1)\n",
    "bars_diff(psrmr, bottom1, top1,height=3.5)\n",
    "bars_diff(psrsm, bottom1, top1,x1=1,x2=3,height=5.5)\n",
    "bars_diff(pmrsm, bottom1, top1,x1=2,x2=3,height=1.5)\n",
    "plt.tight_layout(pad=0.35)\n",
    "plt.axhline(0, color='grey', alpha = 0.3)\n",
    "plt.ylim((-0.002,0.0079))\n",
    "\n",
    "plt.savefig('sorciere/figure/figure_1/one_ch_per_reg_intersub_corr_reali.png', dpi=600)\n",
    "# plt.show()\n",
    "# plt.close()\n"
   ]
  },
  {
   "cell_type": "code",
   "execution_count": 103,
   "id": "c7209f9a",
   "metadata": {},
   "outputs": [
    {
     "name": "stdout",
     "output_type": "stream",
     "text": [
      "0.0 speech\n",
      "0.003 music\n",
      "0.261 rest\n"
     ]
    }
   ],
   "source": [
    "for sound in sound_list:\n",
    "    p=np.sum(np.where((real_corr_sim[sound]) < 0, 1,0))/1000\n",
    "    print(p,sound)"
   ]
  },
  {
   "attachments": {},
   "cell_type": "markdown",
   "id": "45e3f6ab",
   "metadata": {},
   "source": [
    "## p values computations\n"
   ]
  },
  {
   "cell_type": "code",
   "execution_count": 44,
   "id": "bf00edd5",
   "metadata": {},
   "outputs": [
    {
     "name": "stdout",
     "output_type": "stream",
     "text": [
      "rest Ttest_indResult(statistic=11.023912271427552, pvalue=2.264567815443565e-27)\n",
      "music Ttest_indResult(statistic=60.04595860267133, pvalue=0.0)\n",
      "speech Ttest_indResult(statistic=77.502194727763, pvalue=0.0)\n"
     ]
    }
   ],
   "source": [
    "for sound in sound_list:\n",
    "    pp=scipy.stats.ttest_ind(real_corr_sim[sound],null_mod_corr_sim[sound], equal_var=False)\n",
    "    print(sound, pp)\n"
   ]
  }
 ],
 "metadata": {
  "kernelspec": {
   "display_name": "Python 3 (ipykernel)",
   "language": "python",
   "name": "python3"
  },
  "language_info": {
   "codemirror_mode": {
    "name": "ipython",
    "version": 3
   },
   "file_extension": ".py",
   "mimetype": "text/x-python",
   "name": "python",
   "nbconvert_exporter": "python",
   "pygments_lexer": "ipython3",
   "version": "3.9.4"
  }
 },
 "nbformat": 4,
 "nbformat_minor": 5
}
