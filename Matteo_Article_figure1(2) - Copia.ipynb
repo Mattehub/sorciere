{
 "cells": [
  {
   "cell_type": "code",
   "execution_count": 29,
   "id": "preliminary-grocery",
   "metadata": {},
   "outputs": [],
   "source": [
    "import numpy as np\n",
    "import pandas as pd\n",
    "import matplotlib.pyplot as plt\n",
    "import matplotlib\n",
    "import sys\n",
    "import os\n",
    "import h5py\n",
    "import seaborn as sns\n",
    "from scipy import stats\n",
    "from scipy.sparse import rand\n",
    "from scipy.stats import binom\n",
    "import networkx as nx\n",
    "import saving as sv\n",
    "from os.path import join as pjoin\n",
    "sys.path.insert(0, '/Users/giovanni/Documents/GitHub/fufo')\n",
    "#from MultipanelFigures import plotutils as pu\n",
    "#import analysis, simulation \n",
    "sys.path.insert(0, '/Users/giovanni/Documents/GitHub/fufo/notebooks')\n",
    "import utils_avalanches as av\n",
    "#from functions import Allen_Atlas_148b as AA\n",
    "\n",
    "#pathfig='/Users/giovanni/Documents/GitHub/fufo/data/Interim/Matteo/figures/'\n",
    "#pathdata='/Users/giovanni/Documents/GitHub/fufo/data/Interim/Matteo/data/'\n",
    "path='C:/Users/matte/OneDrive/Documenti/matteo/'\n",
    "\n",
    "%matplotlib inline"
   ]
  },
  {
   "cell_type": "code",
   "execution_count": 31,
   "id": "82624d0e",
   "metadata": {},
   "outputs": [],
   "source": [
    "sound_list=['rest','music','speech']\n",
    "arr_mu = os.listdir(path +'seeg_fif_data/music')\n",
    "arr_rest = os.listdir(path +'seeg_fif_data/speech')\n",
    "arr_speech = os.listdir(path +'seeg_fif_data/rest')\n",
    "\n",
    "subject_set_mu=set()\n",
    "subject_set_speech=set()\n",
    "subject_set_rest=set()\n",
    "\n",
    "for st in arr_mu: \n",
    "    #print(st)\n",
    "    subject_set_mu.add(st.partition('_')[0])\n",
    "    #print(st.partition('_')[0])\n",
    "    \n",
    "for st in arr_speech:\n",
    "    subject_set_speech.add(st.partition('_')[0])\n",
    "    \n",
    "for st in arr_rest:\n",
    "    subject_set_rest.add(st.partition('_')[0])\n",
    "\n",
    "subject_list=list(subject_set_mu.intersection(subject_set_speech,subject_set_rest))\n",
    "\n",
    "#Here I create a set of the  all channels\n",
    "total_channels_set=set()\n",
    "\n",
    "for subject in subject_list:\n",
    "    with h5py.File(pjoin(path +'seeg_data_h5py/h5_electrodes/', subject + '_electrodes.hdf5'), 'r') as f:\n",
    "        #print(f.keys())\n",
    "        #print('chnames', f['chnames'].shape)\n",
    "        \n",
    "        chnames = f['chnames'][...].astype('U')\n",
    "        total_channels_set.update(chnames)\n",
    "        \n",
    "#print(total_channels_set)\n",
    "\n",
    "\n",
    "#Here I create a set of the H channels\n",
    "ch_H=set()\n",
    "for ch in total_channels_set:\n",
    "    \n",
    "    if \"H\" in ch:\n",
    "        ch_H.add(ch)\n",
    "\n",
    "#Here I create another set of channels        \n",
    "ch_IM=set()\n",
    "for ch in total_channels_set:\n",
    "    \n",
    "    if \"IP\" in ch:\n",
    "        ch_IM.add(ch)\n",
    "#print(ch_H)\n",
    "\n"
   ]
  },
  {
   "cell_type": "code",
   "execution_count": 33,
   "id": "e727af30",
   "metadata": {},
   "outputs": [
    {
     "data": {
      "text/plain": [
       "19"
      ]
     },
     "execution_count": 33,
     "metadata": {},
     "output_type": "execute_result"
    }
   ],
   "source": [
    "len(subject_list)"
   ]
  },
  {
   "cell_type": "code",
   "execution_count": 14,
   "id": "e0110fba",
   "metadata": {},
   "outputs": [
    {
     "name": "stdout",
     "output_type": "stream",
     "text": [
      "sub-14c725b6b803\n",
      "sub-26176ef8a8d0\n",
      "sub-28e70e7c7fbb\n",
      "sub-3ef8645f99c5\n",
      "sub-4247d6d6cdbf\n",
      "sub-44375d501493\n",
      "sub-45a6830d263e\n",
      "sub-82e330f8aadd\n",
      "sub-83ebd5328120\n",
      "sub-95a634be7e05\n",
      "sub-9d783b836f5e\n",
      "sub-a4e7fc9daa96\n",
      "sub-aea837fa1826\n",
      "sub-c1b7ce54ce05\n",
      "sub-c2a96116ddc4\n",
      "sub-cacae171ee15\n",
      "sub-d9c48230fb78\n",
      "sub-e0bb6ccef2a5\n",
      "sub-ebf231d97f73\n",
      "sub-fccb4adbfadc\n",
      "\n",
      "['sub-14c725b6b803', 'sub-26176ef8a8d0', 'sub-28e70e7c7fbb', 'sub-3ef8645f99c5', 'sub-4247d6d6cdbf', 'sub-44375d501493', 'sub-45a6830d263e', 'sub-82e330f8aadd', 'sub-83ebd5328120', 'sub-95a634be7e05', 'sub-9d783b836f5e', 'sub-a4e7fc9daa96', 'sub-aea837fa1826', 'sub-c1b7ce54ce05', 'sub-c2a96116ddc4', 'sub-cacae171ee15', 'sub-d9c48230fb78', 'sub-e0bb6ccef2a5', 'sub-ebf231d97f73', 'sub-fccb4adbfadc']\n"
     ]
    }
   ],
   "source": [
    "arr_mu = os.listdir(path+'seeg_fif_data/music')\n",
    "sound_list=['speech', 'music','rest']\n",
    "subject_list=[]\n",
    "for st in arr_mu: \n",
    "    subject_list.append(st.partition('_')[0])\n",
    "    print(st.partition('_')[0])\n",
    " \n",
    "subject_list=[s for s in subject_list if 's' in s]\n",
    "print()\n",
    "\n",
    "print(subject_list)"
   ]
  },
  {
   "cell_type": "code",
   "execution_count": 367,
   "id": "general-color",
   "metadata": {},
   "outputs": [],
   "source": [
    "SMALL_SIZE = 8\n",
    "MEDIUM_SIZE = 10\n",
    "BIGGER_SIZE = 12"
   ]
  },
  {
   "cell_type": "code",
   "execution_count": 37,
   "id": "decreased-expense",
   "metadata": {},
   "outputs": [],
   "source": [
    "col_s='#8CCC94'\n",
    "col_m='#FCAC74'\n",
    "col_r='#6CA4CC'"
   ]
  },
  {
   "cell_type": "code",
   "execution_count": 369,
   "id": "black-economics",
   "metadata": {},
   "outputs": [],
   "source": [
    "sound_list=['speech','music','rest']"
   ]
  },
  {
   "cell_type": "code",
   "execution_count": 370,
   "id": "wooden-dubai",
   "metadata": {},
   "outputs": [],
   "source": [
    "subject_list=['sub-28e70e7c7fbb','sub-e0bb6ccef2a5','sub-aea837fa1826','sub-26176ef8a8d0','sub-cacae171ee15','sub-83ebd5328120',\n",
    " 'sub-44375d501493','sub-c2a96116ddc4','sub-45a6830d263e','sub-ebf231d97f73','sub-a4e7fc9daa96', 'sub-fccb4adbfadc',\n",
    " 'sub-14c725b6b803', 'sub-82e330f8aadd', 'sub-c1b7ce54ce05', 'sub-4247d6d6cdbf', 'sub-95a634be7e05', 'sub-3ef8645f99c5', 'sub-9d783b836f5e']"
   ]
  },
  {
   "cell_type": "code",
   "execution_count": 413,
   "id": "cultural-standing",
   "metadata": {},
   "outputs": [],
   "source": [
    "nsubs=len(subject_list)"
   ]
  },
  {
   "cell_type": "code",
   "execution_count": 371,
   "id": "artificial-dodge",
   "metadata": {},
   "outputs": [],
   "source": [
    "tp={}\n",
    "te={}\n",
    "\n",
    "for subject in subject_list:\n",
    "    tp[subject]={}\n",
    "    te[subject]={}\n",
    "    for sound in sound_list:\n",
    "        T=sv.loading(pathdata+'temporal_scale_window350/temporal_scale_matrix_integral_window350'+sound+'_'+subject)\n",
    "        ZT=stats.zscore(T, axis=1)\n",
    "        ZTr=stats.zscore(T, axis=0)\n",
    "        tp[subject][sound]=np.sqrt(np.sum((ZT)**2, axis=0))\n",
    "        te[subject][sound]=stats.zscore(np.sum(ZTr, axis=1))"
   ]
  },
  {
   "cell_type": "code",
   "execution_count": 373,
   "id": "liberal-russell",
   "metadata": {},
   "outputs": [
    {
     "name": "stdout",
     "output_type": "stream",
     "text": [
      "2.8031487655477725\n",
      "2.78534246404477\n",
      "2.974497812545425\n",
      "2.79738475441734\n",
      "2.734310175019014\n",
      "2.8089245753814596\n",
      "2.897258743666651\n",
      "2.798591903739693\n",
      "2.8138171563785437\n",
      "2.7508618986491324\n",
      "2.7742837529435107\n",
      "2.8552720483703933\n",
      "2.750726412203649\n",
      "3.334984151824247\n",
      "2.7742848189222054\n",
      "2.776143771977896\n",
      "2.7331326834817284\n",
      "2.818625307029934\n",
      "2.7654285000333187\n"
     ]
    }
   ],
   "source": [
    "rss={} #here the activity profile of each subject is stored\n",
    "\n",
    "for subject in subject_list:\n",
    "    rss[subject]={}\n",
    "    avalanches={}\n",
    "    zdata=sv.loading(pathdata+'data_hgamma/data_hgenv_down100'+'_'+subject)\n",
    "\n",
    "    #the threshold is derived as the 99th percentile of the data\n",
    "    thres=np.percentile(zdata['rest'], 99)\n",
    "    #print(thres)\n",
    "\n",
    "    for sound in sound_list:\n",
    "        #avalanches dictionaries are computed using the functions of Utils_avalanches.py\n",
    "        avalanches[sound]=av.go_avalanches(zdata[sound].T, thre=thres, direc=0, binsize=2)\n",
    "        rss[subject][sound]=np.sum(avalanches[sound]['Zbin'].T, axis=0)"
   ]
  },
  {
   "cell_type": "code",
   "execution_count": 374,
   "id": "precious-marble",
   "metadata": {},
   "outputs": [],
   "source": [
    "#ap={}\n",
    "ae={}\n",
    "for subject in subject_list:\n",
    "    #ap[subject]={}\n",
    "    ae[subject]={}\n",
    "    zdata=sv.loading(pathdata+'data_hgamma/data_hgenv_down100'+'_'+subject)\n",
    "    thres=np.percentile(zdata['rest'], 99)\n",
    "    for sound in sound_list:\n",
    "        avalanches=av.go_avalanches(zdata[sound].T, thre=thres, direc=0, binsize=2)\n",
    "        ae[subject][sound]=np.sum(avalanches['Zbin'].T, axis=1)"
   ]
  },
  {
   "cell_type": "code",
   "execution_count": 375,
   "id": "secret-format",
   "metadata": {},
   "outputs": [],
   "source": [
    "L = 350 # window length for fitting\n",
    "sp = 350 # window spacing\n",
    "ap={}\n",
    "for subject in subject_list:\n",
    "    ap[subject]={}\n",
    "    for sound in sound_list:\n",
    "\n",
    "        tlen=len(rss[subject][sound])\n",
    "        W_L = np.arange(0,tlen-int(L/2),int(sp/2)) # start times of windows, spaced every sp time points\n",
    "        n_W = W_L.size # number of windows\n",
    "        magt=np.zeros(n_W) \n",
    "        for i in range(n_W):\n",
    "            t_start = W_L[i]\n",
    "            t_stop = t_start + L\n",
    "            dat=rss[subject][sound][t_start:t_stop]\n",
    "            magt[i]=np.sum(dat)\n",
    "\n",
    "\n",
    "        ap[subject][sound]=magt"
   ]
  },
  {
   "cell_type": "code",
   "execution_count": 376,
   "id": "collected-kruger",
   "metadata": {},
   "outputs": [],
   "source": [
    "isu=subject_list[0]\n",
    "iso=sound_list[0]"
   ]
  },
  {
   "cell_type": "code",
   "execution_count": 377,
   "id": "narrow-lighter",
   "metadata": {},
   "outputs": [
    {
     "data": {
      "text/plain": [
       "(164,)"
      ]
     },
     "execution_count": 377,
     "metadata": {},
     "output_type": "execute_result"
    }
   ],
   "source": [
    "tp[isu][iso].shape"
   ]
  },
  {
   "cell_type": "code",
   "execution_count": 378,
   "id": "outer-greenhouse",
   "metadata": {},
   "outputs": [
    {
     "data": {
      "text/plain": [
       "(164,)"
      ]
     },
     "execution_count": 378,
     "metadata": {},
     "output_type": "execute_result"
    }
   ],
   "source": [
    "ap[isu][iso].shape"
   ]
  },
  {
   "cell_type": "markdown",
   "id": "recovered-chamber",
   "metadata": {},
   "source": [
    "# FIGURE 1"
   ]
  },
  {
   "cell_type": "markdown",
   "id": "dedicated-literacy",
   "metadata": {},
   "source": [
    "### Fig1.b Timescales "
   ]
  },
  {
   "cell_type": "code",
   "execution_count": 183,
   "id": "invisible-algorithm",
   "metadata": {},
   "outputs": [],
   "source": [
    "T=sv.loading(pathdata+'temporal_scale_window350/temporal_scale_matrix_integral_window350'+iso+'_'+isu)\n",
    "TP=tp[isu][iso]\n",
    "TE=te[isu][iso]"
   ]
  },
  {
   "cell_type": "code",
   "execution_count": 17,
   "id": "genuine-document",
   "metadata": {},
   "outputs": [
    {
     "data": {
      "image/png": "[encoded data removed]",
      "text/plain": [
       "<Figure size 151.2x97.2 with 1 Axes>"
      ]
     },
     "metadata": {},
     "output_type": "display_data"
    }
   ],
   "source": [
    "plt.figure(figsize=(2.1,1.35))\n",
    "plt.imshow(T[:,:],cmap='viridis',interpolation='nearest',aspect='auto')\n",
    "#cbar=plt.colorbar(ticks=[])\n",
    "#for i in range(60):\n",
    "#    plt.axvline(i-0.5,linewidth=0.1,color='lightsteelblue')\n",
    "#plt.ylabel('Edges',fontsize=SMALL_SIZE)\n",
    "plt.xticks([])\n",
    "plt.yticks([])\n",
    "plt.tight_layout()\n",
    "plt.savefig(pathfig+'Fig1/Timescales.pdf', transparent=True, format=\"PDF\")\n",
    "plt.show()"
   ]
  },
  {
   "cell_type": "code",
   "execution_count": 201,
   "id": "activated-framework",
   "metadata": {},
   "outputs": [
    {
     "data": {
      "image/png": "[encoded data removed]",
      "text/plain": [
       "<Figure size 36x64.8 with 1 Axes>"
      ]
     },
     "metadata": {},
     "output_type": "display_data"
    }
   ],
   "source": [
    "plt.figure(figsize=(.5,.9))\n",
    "plt.imshow(np.expand_dims(np.arange(100),1)[::-1,:],cmap='viridis',aspect='auto')\n",
    "plt.xticks([])\n",
    "plt.yticks([])\n",
    "plt.tight_layout()\n",
    "plt.savefig(pathfig+'Fig1/Cbar.pdf', transparent=True, format=\"PDF\")\n",
    "plt.show()"
   ]
  },
  {
   "cell_type": "code",
   "execution_count": 18,
   "id": "introductory-cursor",
   "metadata": {},
   "outputs": [
    {
     "data": {
      "image/png": "[encoded data removed]",
      "text/plain": [
       "<Figure size 161.28x43.2 with 1 Axes>"
      ]
     },
     "metadata": {},
     "output_type": "display_data"
    }
   ],
   "source": [
    "fig, ax = plt.subplots(figsize=(2.24,0.6))\n",
    "ax.plot(TP[:],linewidth=1)\n",
    "ax.spines[\"top\"].set_visible(False)\n",
    "ax.spines[\"right\"].set_visible(False)\n",
    "ax.spines[\"bottom\"].set_visible(False)\n",
    "ax.spines[\"left\"].set_visible(False)\n",
    "ax.set_xticks([])\n",
    "ax.set_yticks([])\n",
    "#ax.set_yticks([-75,-50,-25,0,25],['','','','',''])\n",
    "plt.tight_layout()\n",
    "plt.savefig(pathfig+'Fig1/TP.pdf', transparent=True, format=\"PDF\")\n",
    "plt.show()"
   ]
  },
  {
   "cell_type": "code",
   "execution_count": 19,
   "id": "young-uncle",
   "metadata": {},
   "outputs": [
    {
     "name": "stderr",
     "output_type": "stream",
     "text": [
      "/Users/giovanni/anaconda2/envs/p36workshop/lib/python3.6/site-packages/ipykernel_launcher.py:6: UserWarning: Tight layout not applied. The left and right margins cannot be made large enough to accommodate all axes decorations. \n",
      "  \n"
     ]
    },
    {
     "data": {
      "image/png": "[encoded data removed]",
      "text/plain": [
       "<Figure size 10.8x97.2 with 1 Axes>"
      ]
     },
     "metadata": {},
     "output_type": "display_data"
    }
   ],
   "source": [
    "plt.figure(figsize=(0.15,1.35))\n",
    "plt.imshow(np.expand_dims(TE,0).T,cmap='viridis',interpolation='nearest',aspect='auto')\n",
    "#plt.ylabel('Pearson`s  $r$',fontsize=SMALL_SIZE)\n",
    "plt.xticks([])\n",
    "plt.yticks([])\n",
    "plt.tight_layout()\n",
    "plt.savefig(pathfig+'Fig1/TE.pdf', transparent=True, format=\"PDF\")\n",
    "plt.show()"
   ]
  },
  {
   "cell_type": "markdown",
   "id": "sporting-elimination",
   "metadata": {},
   "source": [
    "### Fig1.b Binarized data"
   ]
  },
  {
   "cell_type": "code",
   "execution_count": 23,
   "id": "operating-person",
   "metadata": {},
   "outputs": [],
   "source": [
    "zdata=sv.loading(pathdata+'data_hgamma/data_env_high_gamma'+'_'+isu)\n",
    "thres=np.percentile(zdata['rest'], 99)\n",
    "avalanches=av.go_avalanches(zdata[iso].T, thre=thres, direc=0, binsize=6)\n",
    "B=avalanches['Zbin'].T\n",
    "RSS=rss[isu][iso]\n",
    "AP=ap[isu][iso]\n",
    "AE=ae[isu][iso]"
   ]
  },
  {
   "cell_type": "code",
   "execution_count": 24,
   "id": "universal-california",
   "metadata": {},
   "outputs": [
    {
     "data": {
      "image/png": "[encoded data removed]",
      "text/plain": [
       "<Figure size 151.2x97.2 with 1 Axes>"
      ]
     },
     "metadata": {},
     "output_type": "display_data"
    }
   ],
   "source": [
    "plt.figure(figsize=(2.1,1.35))\n",
    "plt.imshow(B[:,:],interpolation='nearest',aspect='auto',cmap='bone_r')\n",
    "plt.xticks([])\n",
    "plt.yticks([])\n",
    "plt.tight_layout()\n",
    "plt.savefig(pathfig+'Fig1/ZBin.pdf', transparent=True, format=\"PDF\")\n",
    "plt.show()"
   ]
  },
  {
   "cell_type": "code",
   "execution_count": 25,
   "id": "directed-pacific",
   "metadata": {},
   "outputs": [
    {
     "data": {
      "image/png": "[encoded data removed]",
      "text/plain": [
       "<Figure size 161.28x43.2 with 1 Axes>"
      ]
     },
     "metadata": {},
     "output_type": "display_data"
    }
   ],
   "source": [
    "fig, ax = plt.subplots(figsize=(2.24,0.6))\n",
    "ax.plot(AP[-int(350*30):],linewidth=1)\n",
    "ax.spines[\"top\"].set_visible(False)\n",
    "ax.spines[\"right\"].set_visible(False)\n",
    "ax.spines[\"bottom\"].set_visible(False)\n",
    "ax.spines[\"left\"].set_visible(False)\n",
    "ax.set_xticks([])\n",
    "ax.set_yticks([])\n",
    "#ax.set_yticks([-75,-50,-25,0,25],['','','','',''])\n",
    "plt.tight_layout()\n",
    "plt.savefig(pathfig+'Fig1/AP.pdf', transparent=True, format=\"PDF\")\n",
    "plt.show()"
   ]
  },
  {
   "cell_type": "code",
   "execution_count": 29,
   "id": "processed-dodge",
   "metadata": {},
   "outputs": [
    {
     "data": {
      "image/png": "[encoded data removed]",
      "text/plain": [
       "<Figure size 161.28x43.2 with 1 Axes>"
      ]
     },
     "metadata": {},
     "output_type": "display_data"
    }
   ],
   "source": [
    "fig, ax = plt.subplots(figsize=(2.24,0.6))\n",
    "ax.plot(RSS[::6],linewidth=0.2)\n",
    "ax.spines[\"top\"].set_visible(False)\n",
    "ax.spines[\"right\"].set_visible(False)\n",
    "ax.spines[\"bottom\"].set_visible(False)\n",
    "ax.spines[\"left\"].set_visible(False)\n",
    "ax.set_xticks([])\n",
    "ax.set_yticks([])\n",
    "#ax.set_yticks([-75,-50,-25,0,25],['','','','',''])\n",
    "plt.tight_layout()\n",
    "plt.savefig(pathfig+'Fig1/RSS.pdf', transparent=True, format=\"PDF\")\n",
    "plt.show()"
   ]
  },
  {
   "cell_type": "code",
   "execution_count": 30,
   "id": "printable-compilation",
   "metadata": {},
   "outputs": [
    {
     "name": "stderr",
     "output_type": "stream",
     "text": [
      "/Users/giovanni/anaconda2/envs/p36workshop/lib/python3.6/site-packages/ipykernel_launcher.py:6: UserWarning: Tight layout not applied. The left and right margins cannot be made large enough to accommodate all axes decorations. \n",
      "  \n"
     ]
    },
    {
     "data": {
      "image/png": "[encoded data removed]",
      "text/plain": [
       "<Figure size 10.8x97.2 with 1 Axes>"
      ]
     },
     "metadata": {},
     "output_type": "display_data"
    }
   ],
   "source": [
    "plt.figure(figsize=(0.15,1.35))\n",
    "plt.imshow(np.expand_dims(AE,0).T,cmap='viridis',interpolation='nearest',aspect='auto')\n",
    "#plt.ylabel('Pearson`s  $r$',fontsize=SMALL_SIZE)\n",
    "plt.xticks([])\n",
    "plt.yticks([])\n",
    "plt.tight_layout()\n",
    "plt.savefig(pathfig+'Fig1/AE.pdf', transparent=True, format=\"PDF\")\n",
    "plt.show()"
   ]
  },
  {
   "cell_type": "markdown",
   "id": "dominican-aquarium",
   "metadata": {},
   "source": [
    "### Fig1.c Correlations"
   ]
  },
  {
   "cell_type": "code",
   "execution_count": 407,
   "id": "black-alexander",
   "metadata": {},
   "outputs": [],
   "source": [
    "corr={}\n",
    "\n",
    "corr['p']={}\n",
    "corr['e']={}\n",
    "for sound in sound_list:\n",
    "\n",
    "    cor_p=[]\n",
    "    cor_e=[]\n",
    "\n",
    "    for subject in subject_list:\n",
    "\n",
    "        ap_i=ap[subject][sound]\n",
    "        tp_i=tp[subject][sound]\n",
    "        ae_i=ae[subject][sound]\n",
    "        te_i=te[subject][sound]\n",
    "        m=min(len(ap_i),len(tp_i))\n",
    "\n",
    "        cor_p.append(np.corrcoef(ap_i[:m], tp_i[:m])[0,1])\n",
    "        cor_e.append(np.corrcoef(ae_i,te_i)[0,1])\n",
    "#         cor_p.append(stats.spearmanr(ap_i[:m], tp_i[:m])[0])\n",
    "#         cor_e.append(stats.spearmanr(ae_i,te_i)[0])\n",
    "\n",
    "    corr['p'][sound]=np.array(cor_p)\n",
    "    corr['e'][sound]=np.array(cor_e)"
   ]
  },
  {
   "cell_type": "code",
   "execution_count": 408,
   "id": "consistent-means",
   "metadata": {},
   "outputs": [
    {
     "data": {
      "image/png": "[encoded data removed]",
      "text/plain": [
       "<Figure size 144x93.6 with 1 Axes>"
      ]
     },
     "metadata": {
      "needs_background": "light"
     },
     "output_type": "display_data"
    }
   ],
   "source": [
    "plt.figure(figsize=(2,1.3))\n",
    "xmin=-0.1\n",
    "xmax=0.6\n",
    "n, bins, patches = plt.hist(x=corr['p']['speech'], bins=10, color=col_s,\n",
    "                            alpha=0.7, rwidth=0.85, range=[xmin,xmax])\n",
    "plt.axvline(0, alpha=0.75,c='darkslategray')\n",
    "plt.xticks(fontsize=8)\n",
    "plt.yticks(fontsize=8)\n",
    "plt.ylim(ymax=8.5)\n",
    "plt.tight_layout()\n",
    "plt.savefig(pathfig+'Fig1/Corr_p_s.pdf', transparent=True, format=\"PDF\")\n",
    "plt.show()"
   ]
  },
  {
   "cell_type": "code",
   "execution_count": 409,
   "id": "cheap-record",
   "metadata": {},
   "outputs": [
    {
     "data": {
      "image/png": "[encoded data removed]",
      "text/plain": [
       "<Figure size 144x93.6 with 1 Axes>"
      ]
     },
     "metadata": {
      "needs_background": "light"
     },
     "output_type": "display_data"
    }
   ],
   "source": [
    "plt.figure(figsize=(2,1.3))\n",
    "n, bins, patches = plt.hist(x=corr['p']['music'], bins=10, color=col_m,\n",
    "                            alpha=0.7, rwidth=0.85, range=[xmin,xmax])\n",
    "plt.axvline(0, alpha=0.75,c='darkslategray')\n",
    "plt.xticks(fontsize=8)\n",
    "plt.yticks(fontsize=8)\n",
    "plt.ylim(ymax=8.5)\n",
    "plt.tight_layout()\n",
    "plt.savefig(pathfig+'Fig1/Corr_p_m.pdf', transparent=True, format=\"PDF\")\n",
    "plt.show()"
   ]
  },
  {
   "cell_type": "code",
   "execution_count": 410,
   "id": "convertible-steering",
   "metadata": {},
   "outputs": [
    {
     "data": {
      "image/png": "[encoded data removed]",
      "text/plain": [
       "<Figure size 144x93.6 with 1 Axes>"
      ]
     },
     "metadata": {
      "needs_background": "light"
     },
     "output_type": "display_data"
    }
   ],
   "source": [
    "plt.figure(figsize=(2,1.3))\n",
    "n, bins, patches = plt.hist(x=corr['p']['rest'], bins=10, color=col_r,\n",
    "                            alpha=0.7, rwidth=0.85, range=[xmin,xmax])\n",
    "plt.axvline(0, alpha=0.75,c='darkslategray')\n",
    "plt.xticks(fontsize=8)\n",
    "plt.yticks(fontsize=8)\n",
    "plt.ylim(ymax=8.5)\n",
    "plt.tight_layout()\n",
    "plt.savefig(pathfig+'Fig1/Corr_p_r.pdf', transparent=True, format=\"PDF\")\n",
    "plt.show()"
   ]
  },
  {
   "cell_type": "code",
   "execution_count": null,
   "id": "western-custom",
   "metadata": {},
   "outputs": [],
   "source": []
  },
  {
   "cell_type": "code",
   "execution_count": null,
   "id": "provincial-french",
   "metadata": {},
   "outputs": [],
   "source": []
  },
  {
   "cell_type": "code",
   "execution_count": null,
   "id": "genetic-foundation",
   "metadata": {},
   "outputs": [],
   "source": []
  },
  {
   "cell_type": "code",
   "execution_count": null,
   "id": "sexual-hostel",
   "metadata": {},
   "outputs": [],
   "source": []
  },
  {
   "cell_type": "code",
   "execution_count": null,
   "id": "leading-edgar",
   "metadata": {},
   "outputs": [],
   "source": []
  },
  {
   "cell_type": "code",
   "execution_count": 383,
   "id": "retained-telescope",
   "metadata": {},
   "outputs": [
    {
     "data": {
      "image/png": "[encoded data removed]",
      "text/plain": [
       "<Figure size 144x93.6 with 1 Axes>"
      ]
     },
     "metadata": {
      "needs_background": "light"
     },
     "output_type": "display_data"
    }
   ],
   "source": [
    "plt.figure(figsize=(2,1.3))\n",
    "xmin=-0.1\n",
    "xmax=.95\n",
    "n, bins, patches = plt.hist(x=corr['e']['speech'], bins=10, color=col_s,\n",
    "                            alpha=0.7, rwidth=0.85, range=[xmin,xmax])\n",
    "plt.axvline(0, alpha=0.75,c='darkslategray')\n",
    "plt.xticks(fontsize=8)\n",
    "plt.yticks(fontsize=8)\n",
    "plt.ylim(ymax=8.5)\n",
    "plt.tight_layout()\n",
    "plt.savefig(pathfig+'Fig1/Corr_e_s.pdf', transparent=True, format=\"PDF\")\n",
    "plt.show()"
   ]
  },
  {
   "cell_type": "code",
   "execution_count": 384,
   "id": "fewer-exhibit",
   "metadata": {},
   "outputs": [
    {
     "data": {
      "image/png": "[encoded data removed]",
      "text/plain": [
       "<Figure size 144x93.6 with 1 Axes>"
      ]
     },
     "metadata": {
      "needs_background": "light"
     },
     "output_type": "display_data"
    }
   ],
   "source": [
    "plt.figure(figsize=(2,1.3))\n",
    "n, bins, patches = plt.hist(x=corr['e']['music'], bins=10, color=col_m,\n",
    "                            alpha=0.7, rwidth=0.85, range=[xmin,xmax])\n",
    "plt.axvline(0, alpha=0.75,c='darkslategray')\n",
    "plt.xticks(fontsize=8)\n",
    "plt.yticks(fontsize=8)\n",
    "plt.ylim(ymax=8.5)\n",
    "plt.tight_layout()\n",
    "plt.savefig(pathfig+'Fig1/Corr_e_m.pdf', transparent=True, format=\"PDF\")\n",
    "plt.show()"
   ]
  },
  {
   "cell_type": "code",
   "execution_count": 385,
   "id": "extreme-decrease",
   "metadata": {},
   "outputs": [
    {
     "data": {
      "image/png": "[encoded data removed]",
      "text/plain": [
       "<Figure size 144x93.6 with 1 Axes>"
      ]
     },
     "metadata": {
      "needs_background": "light"
     },
     "output_type": "display_data"
    }
   ],
   "source": [
    "plt.figure(figsize=(2,1.3))\n",
    "n, bins, patches = plt.hist(x=corr['e']['rest'], bins=10, color=col_r,\n",
    "                            alpha=0.7, rwidth=0.85, range=[xmin,xmax])\n",
    "plt.axvline(0, alpha=0.75,c='darkslategray')\n",
    "plt.xticks(fontsize=8)\n",
    "plt.yticks(fontsize=8)\n",
    "plt.ylim(ymax=8.5)\n",
    "plt.tight_layout()\n",
    "plt.savefig(pathfig+'Fig1/Corr_e_r.pdf', transparent=True, format=\"PDF\")\n",
    "plt.show()"
   ]
  },
  {
   "cell_type": "code",
   "execution_count": null,
   "id": "advisory-router",
   "metadata": {},
   "outputs": [],
   "source": []
  },
  {
   "cell_type": "code",
   "execution_count": 386,
   "id": "lasting-copper",
   "metadata": {},
   "outputs": [
    {
     "ename": "KeyError",
     "evalue": "160",
     "output_type": "error",
     "traceback": [
      "\u001b[0;31m---------------------------------------------------------------------------\u001b[0m",
      "\u001b[0;31mKeyError\u001b[0m                                  Traceback (most recent call last)",
      "\u001b[0;32m<ipython-input-386-d986a96feb72>\u001b[0m in \u001b[0;36m<module>\u001b[0;34m\u001b[0m\n\u001b[0;32m----> 1\u001b[0;31m \u001b[0mrss\u001b[0m\u001b[0;34m[\u001b[0m\u001b[0mi\u001b[0m\u001b[0;34m]\u001b[0m\u001b[0;34m[\u001b[0m\u001b[0msound_list\u001b[0m\u001b[0;34m[\u001b[0m\u001b[0;36m2\u001b[0m\u001b[0;34m]\u001b[0m\u001b[0;34m]\u001b[0m\u001b[0;34m.\u001b[0m\u001b[0mshape\u001b[0m\u001b[0;34m\u001b[0m\u001b[0;34m\u001b[0m\u001b[0m\n\u001b[0m",
      "\u001b[0;31mKeyError\u001b[0m: 160"
     ]
    }
   ],
   "source": [
    "rss[i][sound_list[2]].shape"
   ]
  },
  {
   "cell_type": "markdown",
   "id": "fatty-kenya",
   "metadata": {},
   "source": [
    "# FIGURE 2"
   ]
  },
  {
   "cell_type": "code",
   "execution_count": 393,
   "id": "competitive-loading",
   "metadata": {},
   "outputs": [],
   "source": [
    "RSS={'speech':np.zeros((len(subject_list),28735)),'music':np.zeros((len(subject_list),28918)),'rest':np.zeros((len(subject_list),28335))}"
   ]
  },
  {
   "cell_type": "code",
   "execution_count": 394,
   "id": "indian-isaac",
   "metadata": {},
   "outputs": [],
   "source": [
    "for ii, i in enumerate(subject_list):\n",
    "    for ij, j in enumerate(sound_list):\n",
    "        RSS[j][ii,:]=rss[i][j]"
   ]
  },
  {
   "cell_type": "code",
   "execution_count": 35,
   "id": "orange-floor",
   "metadata": {},
   "outputs": [],
   "source": [
    "cl='viridis'\n",
    "vm=0.15"
   ]
  },
  {
   "cell_type": "code",
   "execution_count": 69,
   "id": "sought-rachel",
   "metadata": {},
   "outputs": [
    {
     "data": {
      "image/png": "[encoded data removed]",
      "text/plain": [
       "<Figure size 175x175 with 1 Axes>"
      ]
     },
     "metadata": {},
     "output_type": "display_data"
    },
    {
     "data": {
      "image/png": "[encoded data removed]",
      "text/plain": [
       "<Figure size 175x175 with 1 Axes>"
      ]
     },
     "metadata": {},
     "output_type": "display_data"
    },
    {
     "data": {
      "image/png": "[encoded data removed]",
      "text/plain": [
       "<Figure size 175x175 with 1 Axes>"
      ]
     },
     "metadata": {},
     "output_type": "display_data"
    }
   ],
   "source": [
    "dataused='only_H'\n",
    "corr_matrix=sv.loading( 'matrix_corr_'+dataused)\n",
    "\n",
    "for sound in sound_list:\n",
    "    plt.figure(figsize=(1.75,1.75))\n",
    "    #plt.title('Backbone',fontsize=MEDIUM_SIZE)\n",
    "    plt.imshow(corr_matrix[sound],cmap=cl,interpolation='nearest',vmax=vm)\n",
    "    for i in range(len(subject_list)):\n",
    "        plt.axvline(i-0.5,linewidth=0.15,color='lightsteelblue')\n",
    "        plt.axhline(i-0.5,linewidth=0.15,color='lightsteelblue')\n",
    "    #plt.ylabel('channels',fontsize=SMALL_SIZE)\n",
    "    #plt.xlabel('channels',fontsize=SMALL_SIZE)\n",
    "    plt.yticks([])\n",
    "    plt.xticks([])\n",
    "    plt.tight_layout()\n",
    "    plt.savefig('Figura_S1/Corr_sub_'+dataused+sound+'.pdf', transparent=True, format=\"PDF\")\n",
    "    plt.show()"
   ]
  },
  {
   "cell_type": "code",
   "execution_count": 397,
   "id": "conditional-williams",
   "metadata": {},
   "outputs": [
    {
     "data": {
      "image/png": "[encoded data removed]",
      "text/plain": [
       "<Figure size 126x126 with 1 Axes>"
      ]
     },
     "metadata": {},
     "output_type": "display_data"
    }
   ],
   "source": [
    "plt.figure(figsize=(1.75,1.75))\n",
    "#plt.title('Backbone',fontsize=MEDIUM_SIZE)\n",
    "plt.imshow(np.corrcoef(RSS['music']),cmap=cl,interpolation='nearest',vmax=vm)\n",
    "for i in range(len(subject_list)):\n",
    "    plt.axvline(i-0.5,linewidth=0.15,color='lightsteelblue')\n",
    "    plt.axhline(i-0.5,linewidth=0.15,color='lightsteelblue')\n",
    "plt.yticks([])\n",
    "plt.xticks([])\n",
    "plt.tight_layout()\n",
    "plt.savefig(pathfig+'Fig2/Corr_sub_m.pdf', transparent=True, format=\"PDF\")\n",
    "plt.show()"
   ]
  },
  {
   "cell_type": "code",
   "execution_count": 398,
   "id": "activated-weather",
   "metadata": {},
   "outputs": [
    {
     "data": {
      "image/png": "[encoded data removed]",
      "text/plain": [
       "<Figure size 126x126 with 1 Axes>"
      ]
     },
     "metadata": {},
     "output_type": "display_data"
    }
   ],
   "source": [
    "plt.figure(figsize=(1.75,1.75))\n",
    "plt.imshow(np.corrcoef(RSS['rest']),cmap=cl,interpolation='nearest',vmax=vm)\n",
    "for i in range(len(subject_list)):\n",
    "    plt.axvline(i-0.5,linewidth=0.15,color='lightsteelblue')\n",
    "    plt.axhline(i-0.5,linewidth=0.15,color='lightsteelblue')\n",
    "plt.yticks([])\n",
    "plt.xticks([])\n",
    "plt.tight_layout()\n",
    "plt.savefig(pathfig+'Fig2/Corr_sub_r.pdf', transparent=True, format=\"PDF\")\n",
    "plt.show()"
   ]
  },
  {
   "cell_type": "code",
   "execution_count": 55,
   "id": "massive-roads",
   "metadata": {},
   "outputs": [],
   "source": [
    "randoms=sv.loading(path+'list_random_correlation_dict_'+dataused)\n"
   ]
  },
  {
   "cell_type": "code",
   "execution_count": 70,
   "id": "equipped-fundamental",
   "metadata": {},
   "outputs": [
    {
     "data": {
      "image/png": "[encoded data removed]",
      "text/plain": [
       "<Figure size 220x170 with 1 Axes>"
      ]
     },
     "metadata": {},
     "output_type": "display_data"
    }
   ],
   "source": [
    "dataused='only_H'\n",
    "plt.figure(figsize=(2.2,1.7))\n",
    "xmin=-0.005\n",
    "xmax=.04\n",
    "n, bins, patches = plt.hist(x=randoms['speech'], bins=12, color='darkslategray',\n",
    "                            alpha=0.5, rwidth=0.85, range=[xmin,xmax])\n",
    "plt.axvline(np.mean(corr_matrix['speech'][np.triu_indices(len(subject_list),1)]),c=col_s,linewidth=4)\n",
    "plt.xticks(fontsize=8)\n",
    "plt.yticks(fontsize=8)\n",
    "#plt.ylim(ymax=8.5)\n",
    "plt.tight_layout()\n",
    "plt.savefig('figura_S1/Histcorr_sub_s'+dataused+'.png', dpi=600)\n",
    "plt.show()"
   ]
  },
  {
   "cell_type": "code",
   "execution_count": 71,
   "id": "f5e8e398",
   "metadata": {},
   "outputs": [
    {
     "data": {
      "image/png": "[encoded data removed]",
      "text/plain": [
       "<Figure size 220x170 with 1 Axes>"
      ]
     },
     "metadata": {},
     "output_type": "display_data"
    }
   ],
   "source": [
    "plt.figure(figsize=(2.2,1.7))\n",
    "xmin=-0.005\n",
    "xmax=.04\n",
    "n, bins, patches = plt.hist(x=randoms['music'], bins=12, color='darkslategray',\n",
    "                            alpha=0.5, rwidth=0.85, range=[xmin,xmax])\n",
    "plt.axvline(np.mean(corr_matrix['music'][np.triu_indices(len(subject_list),1)]),c=col_m,linewidth=4)\n",
    "plt.xticks(fontsize=8)\n",
    "plt.yticks(fontsize=8)\n",
    "#plt.ylim(ymax=8.5)\n",
    "plt.tight_layout()\n",
    "plt.savefig('figura_S1/Histcorr_sub_m'+dataused+'.png', dpi=600)\n",
    "plt.show()"
   ]
  },
  {
   "cell_type": "code",
   "execution_count": 72,
   "id": "cb9ed843",
   "metadata": {},
   "outputs": [
    {
     "data": {
      "image/png": "[encoded data removed]",
      "text/plain": [
       "<Figure size 220x170 with 1 Axes>"
      ]
     },
     "metadata": {},
     "output_type": "display_data"
    }
   ],
   "source": [
    "plt.figure(figsize=(2.2,1.7))\n",
    "xmin=-0.005\n",
    "xmax=.04\n",
    "n, bins, patches = plt.hist(x=randoms['rest'], bins=12, color='darkslategray',\n",
    "                            alpha=0.5, rwidth=0.85, range=[xmin,xmax])\n",
    "plt.axvline(np.mean(corr_matrix['rest'][np.triu_indices(len(subject_list),1)]),c=col_r,linewidth=4)\n",
    "plt.xticks(fontsize=8)\n",
    "plt.yticks(fontsize=8)\n",
    "#plt.ylim(ymax=8.5)\n",
    "plt.tight_layout()\n",
    "plt.savefig('figura_S1/Histcorr_sub_r'+dataused+'.png', dpi=600)\n",
    "plt.show()"
   ]
  },
  {
   "cell_type": "code",
   "execution_count": 68,
   "id": "french-impossible",
   "metadata": {},
   "outputs": [
    {
     "ename": "NameError",
     "evalue": "name 'RSS' is not defined",
     "output_type": "error",
     "traceback": [
      "\u001b[1;31m---------------------------------------------------------------------------\u001b[0m",
      "\u001b[1;31mNameError\u001b[0m                                 Traceback (most recent call last)",
      "Cell \u001b[1;32mIn[68], line 4\u001b[0m\n\u001b[0;32m      1\u001b[0m plt\u001b[39m.\u001b[39mfigure(figsize\u001b[39m=\u001b[39m(\u001b[39m2.2\u001b[39m,\u001b[39m1.7\u001b[39m))\n\u001b[0;32m      2\u001b[0m n, bins, patches \u001b[39m=\u001b[39m plt\u001b[39m.\u001b[39mhist(x\u001b[39m=\u001b[39mrandoms[\u001b[39m'\u001b[39m\u001b[39mmusic\u001b[39m\u001b[39m'\u001b[39m], bins\u001b[39m=\u001b[39m\u001b[39m12\u001b[39m, color\u001b[39m=\u001b[39m\u001b[39m'\u001b[39m\u001b[39mdarkslategray\u001b[39m\u001b[39m'\u001b[39m,\n\u001b[0;32m      3\u001b[0m                             alpha\u001b[39m=\u001b[39m\u001b[39m0.5\u001b[39m, rwidth\u001b[39m=\u001b[39m\u001b[39m0.85\u001b[39m, \u001b[39mrange\u001b[39m\u001b[39m=\u001b[39m[xmin,xmax])\n\u001b[1;32m----> 4\u001b[0m plt\u001b[39m.\u001b[39maxvline(np\u001b[39m.\u001b[39mmean(np\u001b[39m.\u001b[39mcorrcoef(RSS[\u001b[39m'\u001b[39m\u001b[39mmusic\u001b[39m\u001b[39m'\u001b[39m])[np\u001b[39m.\u001b[39mtriu_indices(\u001b[39mlen\u001b[39m(subject_list),\u001b[39m1\u001b[39m)]),c\u001b[39m=\u001b[39mcol_m,linewidth\u001b[39m=\u001b[39m\u001b[39m4\u001b[39m)\n\u001b[0;32m      5\u001b[0m plt\u001b[39m.\u001b[39mxticks(fontsize\u001b[39m=\u001b[39m\u001b[39m8\u001b[39m)\n\u001b[0;32m      6\u001b[0m plt\u001b[39m.\u001b[39myticks(fontsize\u001b[39m=\u001b[39m\u001b[39m8\u001b[39m)\n",
      "\u001b[1;31mNameError\u001b[0m: name 'RSS' is not defined"
     ]
    },
    {
     "data": {
      "image/png": "[encoded data removed]",
      "text/plain": [
       "<Figure size 220x170 with 1 Axes>"
      ]
     },
     "metadata": {},
     "output_type": "display_data"
    }
   ],
   "source": [
    "plt.figure(figsize=(2.2,1.7))\n",
    "n, bins, patches = plt.hist(x=randoms['music'], bins=12, color='darkslategray',\n",
    "                            alpha=0.5, rwidth=0.85, range=[xmin,xmax])\n",
    "plt.axvline(np.mean(np.corrcoef(RSS['music'])[np.triu_indices(len(subject_list),1)]),c=col_m,linewidth=4)\n",
    "plt.xticks(fontsize=8)\n",
    "plt.yticks(fontsize=8)\n",
    "plt.tight_layout()\n",
    "plt.savefig(pathfig+'Fig2/Histcorr_sub_m.png', transparent=True, format=\"PDF\")\n",
    "plt.show()"
   ]
  },
  {
   "cell_type": "code",
   "execution_count": 402,
   "id": "available-danish",
   "metadata": {},
   "outputs": [
    {
     "data": {
      "image/png": "[encoded data removed]",
      "text/plain": [
       "<Figure size 158.4x122.4 with 1 Axes>"
      ]
     },
     "metadata": {
      "needs_background": "light"
     },
     "output_type": "display_data"
    }
   ],
   "source": [
    "plt.figure(figsize=(2.2,1.7))\n",
    "n, bins, patches = plt.hist(x=randoms['rest'], bins=12, color='darkslategray',\n",
    "                            alpha=0.5, rwidth=0.85, range=[xmin,xmax])\n",
    "plt.axvline(np.mean(np.corrcoef(RSS['rest'])[np.triu_indices(len(subject_list),1)]),c=col_r,linewidth=4)\n",
    "plt.xticks(fontsize=8)\n",
    "plt.yticks(fontsize=8)\n",
    "plt.tight_layout()\n",
    "plt.savefig(pathfig+'Fig2/Histcorr_sub_r.pdf', transparent=True, format=\"PDF\")\n",
    "plt.show()"
   ]
  },
  {
   "cell_type": "code",
   "execution_count": 412,
   "id": "confident-interim",
   "metadata": {},
   "outputs": [
    {
     "data": {
      "text/plain": [
       "(19, 28735)"
      ]
     },
     "execution_count": 412,
     "metadata": {},
     "output_type": "execute_result"
    }
   ],
   "source": [
    "RSS['speech'].shape"
   ]
  },
  {
   "cell_type": "markdown",
   "id": "editorial-phase",
   "metadata": {},
   "source": [
    "### Dynamical correlation"
   ]
  },
  {
   "cell_type": "code",
   "execution_count": 778,
   "id": "blank-subscription",
   "metadata": {},
   "outputs": [],
   "source": [
    "L = 500 # window length for fitting\n",
    "sp = 50 # window spacing\n",
    "dc={}\n",
    "for sound in sound_list:\n",
    "    tlen=len(RSS[sound][0])\n",
    "    W_L = np.arange(0,tlen-int(L),int(sp)) # start times of windows, spaced every sp time points\n",
    "    n_W = W_L.size # number of windows\n",
    "    nedges=int(nsubs*(nsubs-1)/2)\n",
    "    magt=np.zeros((n_W,nedges)) \n",
    "    for i in range(n_W):\n",
    "        t_start = W_L[i]\n",
    "        t_stop = t_start + L\n",
    "        dat=RSS[sound][:,t_start:t_stop]\n",
    "        magt[i,:]=np.corrcoef(dat)[np.triu_indices(nsubs,1)]\n",
    "    dc[sound]=magt"
   ]
  },
  {
   "cell_type": "code",
   "execution_count": 779,
   "id": "surface-aviation",
   "metadata": {},
   "outputs": [],
   "source": [
    "# L = 100 # window length for fitting\n",
    "# sp = 50 # window spacing\n",
    "# dc={}\n",
    "# for sound in sound_list:\n",
    "#     tlen=len(RSS[sound][0])\n",
    "#     W_L = np.arange(0,tlen-int(L),int(sp)) # start times of windows, spaced every sp time points\n",
    "#     n_W = W_L.size # number of windows\n",
    "#     nedges=int(nsubs*(nsubs-1)/2)\n",
    "#     magt=np.zeros((n_W,nedges)) \n",
    "#     for i in range(n_W):\n",
    "#         t_start = W_L[i]\n",
    "#         t_stop = t_start + L\n",
    "#         dat=RSS[sound][:,t_start:t_stop]\n",
    "#         sr=np.where(stats.spearmanr(dat.T)[1]<0.05,stats.spearmanr(dat.T)[0],0)\n",
    "#         magt[i,:]=sr[np.triu_indices(nsubs,1)]\n",
    "#     dc[sound]=magt"
   ]
  },
  {
   "cell_type": "code",
   "execution_count": 780,
   "id": "plastic-roads",
   "metadata": {},
   "outputs": [],
   "source": [
    "from matplotlib import cm\n"
   ]
  },
  {
   "cell_type": "code",
   "execution_count": 785,
   "id": "celtic-salmon",
   "metadata": {},
   "outputs": [
    {
     "data": {
      "image/png": "[encoded data removed]",
      "text/plain": [
       "<Figure size 176.4x108 with 1 Axes>"
      ]
     },
     "metadata": {},
     "output_type": "display_data"
    }
   ],
   "source": [
    "plt.figure(figsize=(2.45,1.5))\n",
    "#plt.figure(figsize=(2.1,1.35))\n",
    "ord_s=np.argsort(np.mean(dc['speech'],axis=0))[::-1]\n",
    "plt.imshow(dc['speech'][:,ord_s].T,cmap='viridis',interpolation='nearest',aspect='auto',vmin=-0.05,vmax=0.2)\n",
    "#plt.colorbar()\n",
    "plt.xticks([])\n",
    "plt.yticks([])\n",
    "plt.tight_layout()\n",
    "plt.savefig(pathfig+'Fig2/DCmat_s.pdf', transparent=True, format=\"PDF\")\n",
    "plt.show()"
   ]
  },
  {
   "cell_type": "code",
   "execution_count": 787,
   "id": "universal-hybrid",
   "metadata": {},
   "outputs": [
    {
     "data": {
      "image/png": "[encoded data removed]",
      "text/plain": [
       "<Figure size 176.4x108 with 1 Axes>"
      ]
     },
     "metadata": {},
     "output_type": "display_data"
    }
   ],
   "source": [
    "plt.figure(figsize=(2.45,1.5))\n",
    "#plt.figure(figsize=(2.1,1.35))\n",
    "ord_m=np.argsort(np.mean(dc['music'],axis=0))[::-1]\n",
    "plt.imshow(dc['music'][:,ord_m].T,cmap='viridis',interpolation='nearest',aspect='auto',vmin=-0.05,vmax=0.2)\n",
    "#plt.colorbar()\n",
    "plt.xticks([])\n",
    "plt.yticks([])\n",
    "plt.tight_layout()\n",
    "plt.savefig(pathfig+'Fig2/DCmat_m.pdf', transparent=True, format=\"PDF\")\n",
    "plt.show()"
   ]
  },
  {
   "cell_type": "code",
   "execution_count": 788,
   "id": "official-fruit",
   "metadata": {},
   "outputs": [
    {
     "data": {
      "image/png": "[encoded data removed]",
      "text/plain": [
       "<Figure size 176.4x108 with 1 Axes>"
      ]
     },
     "metadata": {},
     "output_type": "display_data"
    }
   ],
   "source": [
    "plt.figure(figsize=(2.45,1.5))\n",
    "#plt.figure(figsize=(2.1,1.35))\n",
    "ord_r=np.argsort(np.mean(dc['rest'],axis=0))[::-1]\n",
    "plt.imshow(dc['rest'][:,ord_r].T,cmap='viridis',interpolation='nearest',aspect='auto',vmin=-0.05,vmax=0.2)#plt.xticks([])\n",
    "plt.xticks([])\n",
    "plt.yticks([])\n",
    "plt.tight_layout()\n",
    "plt.savefig(pathfig+'Fig2/DCmat_r.pdf', transparent=True, format=\"PDF\")\n",
    "plt.show()"
   ]
  },
  {
   "cell_type": "code",
   "execution_count": 763,
   "id": "sensitive-chile",
   "metadata": {},
   "outputs": [],
   "source": [
    "dc_s=np.mean(dc['speech'],axis=1)[1:]\n",
    "dc_m=np.mean(dc['music'],axis=1)[1:]\n",
    "dc_r=np.mean(dc['rest'],axis=1)[1:]"
   ]
  },
  {
   "cell_type": "code",
   "execution_count": 774,
   "id": "varied-promise",
   "metadata": {},
   "outputs": [
    {
     "data": {
      "image/png": "[encoded data removed]",
      "text/plain": [
       "<Figure size 201.6x64.8 with 1 Axes>"
      ]
     },
     "metadata": {
      "needs_background": "light"
     },
     "output_type": "display_data"
    }
   ],
   "source": [
    "fig, ax = plt.subplots(figsize=(2.8,.9))\n",
    "ax.plot(dc_s,c=col_s,linewidth=0.75)\n",
    "ax.axhline(np.max(dc_r),linestyle='--',c=col_r)\n",
    "ax.scatter(np.where(dc_s>np.max(dc_r))[0],dc_s[np.where(dc_s>np.max(dc_r))],c='r',s=10)\n",
    "ax.spines[\"top\"].set_visible(False)\n",
    "ax.spines[\"right\"].set_visible(False)\n",
    "ax.spines[\"bottom\"].set_visible(False)\n",
    "ax.set_xticks([])\n",
    "ax.tick_params(labelsize=8)\n",
    "ax.set_ylim((-0.01,0.14))\n",
    "#ax.set_yticks([-75,-50,-25,0,25],['','','','',''])\n",
    "plt.tight_layout()\n",
    "plt.savefig(pathfig+'Fig2/dc_s.pdf', transparent=True, format=\"PDF\")\n",
    "plt.show()"
   ]
  },
  {
   "cell_type": "code",
   "execution_count": 775,
   "id": "polished-webmaster",
   "metadata": {},
   "outputs": [
    {
     "data": {
      "image/png": "[encoded data removed]",
      "text/plain": [
       "<Figure size 201.6x64.8 with 1 Axes>"
      ]
     },
     "metadata": {
      "needs_background": "light"
     },
     "output_type": "display_data"
    }
   ],
   "source": [
    "fig, ax = plt.subplots(figsize=(2.8,.9))\n",
    "ax.plot(dc_m,c=col_m,linewidth=0.75)\n",
    "ax.axhline(np.max(dc_r),linestyle='--',c=col_r)\n",
    "ax.scatter(np.where(dc_m>np.max(dc_r))[0],dc_m[np.where(dc_m>np.max(dc_r))],c='r',s=10)\n",
    "ax.spines[\"top\"].set_visible(False)\n",
    "ax.spines[\"right\"].set_visible(False)\n",
    "ax.spines[\"bottom\"].set_visible(False)\n",
    "ax.set_xticks([])\n",
    "ax.set_ylim((-0.01,0.14))\n",
    "ax.tick_params(labelsize=8)\n",
    "#ax.set_yticks([-75,-50,-25,0,25],['','','','',''])\n",
    "plt.tight_layout()\n",
    "plt.savefig(pathfig+'Fig2/dc_m.pdf', transparent=True, format=\"PDF\")\n",
    "plt.show()"
   ]
  },
  {
   "cell_type": "code",
   "execution_count": 776,
   "id": "serial-tuning",
   "metadata": {},
   "outputs": [
    {
     "data": {
      "image/png": "[encoded data removed]",
      "text/plain": [
       "<Figure size 201.6x64.8 with 1 Axes>"
      ]
     },
     "metadata": {
      "needs_background": "light"
     },
     "output_type": "display_data"
    }
   ],
   "source": [
    "fig, ax = plt.subplots(figsize=(2.8,.9))\n",
    "ax.plot(dc_r,c=col_r,linewidth=0.75)\n",
    "ax.axhline(np.max(dc_r),linestyle='--',c=col_r)\n",
    "ax.spines[\"top\"].set_visible(False)\n",
    "ax.spines[\"right\"].set_visible(False)\n",
    "ax.spines[\"bottom\"].set_visible(False)\n",
    "ax.set_xticks([])\n",
    "ax.tick_params(labelsize=8)\n",
    "ax.set_ylim((-0.01,0.14))\n",
    "plt.tight_layout()\n",
    "plt.savefig(pathfig+'Fig2/dc_r.pdf', transparent=True, format=\"PDF\")\n",
    "plt.show()"
   ]
  },
  {
   "cell_type": "code",
   "execution_count": 676,
   "id": "recorded-footage",
   "metadata": {},
   "outputs": [
    {
     "data": {
      "text/plain": [
       "(19, 500)"
      ]
     },
     "execution_count": 676,
     "metadata": {},
     "output_type": "execute_result"
    }
   ],
   "source": [
    "dat.shape"
   ]
  },
  {
   "cell_type": "markdown",
   "id": "clinical-humor",
   "metadata": {},
   "source": [
    "# SUPPL FIGURE 4"
   ]
  },
  {
   "cell_type": "code",
   "execution_count": 321,
   "id": "burning-danish",
   "metadata": {},
   "outputs": [],
   "source": [
    "TPS={'speech':np.zeros((len(subject_list),164)),'music':np.zeros((len(subject_list),165)),'rest':np.zeros((len(subject_list),161))}"
   ]
  },
  {
   "cell_type": "code",
   "execution_count": 322,
   "id": "national-request",
   "metadata": {},
   "outputs": [],
   "source": [
    "for ii, i in enumerate(subject_list):\n",
    "    for ij, j in enumerate(sound_list):\n",
    "        TPS[j][ii,:]=tp[i][j]"
   ]
  },
  {
   "cell_type": "code",
   "execution_count": 328,
   "id": "assigned-oasis",
   "metadata": {},
   "outputs": [],
   "source": [
    "cl='viridis'\n",
    "vm=0.3"
   ]
  },
  {
   "cell_type": "code",
   "execution_count": 329,
   "id": "graduate-caution",
   "metadata": {},
   "outputs": [
    {
     "data": {
      "image/png": "[encoded data removed]",
      "text/plain": [
       "<Figure size 126x126 with 1 Axes>"
      ]
     },
     "metadata": {},
     "output_type": "display_data"
    }
   ],
   "source": [
    "plt.figure(figsize=(1.75,1.75))\n",
    "#plt.title('Backbone',fontsize=MEDIUM_SIZE)\n",
    "plt.imshow(np.corrcoef(TPS['speech']),cmap=cl,interpolation='nearest',vmax=vm)\n",
    "for i in range(len(subject_list)):\n",
    "    plt.axvline(i-0.5,linewidth=0.15,color='lightsteelblue')\n",
    "    plt.axhline(i-0.5,linewidth=0.15,color='lightsteelblue')\n",
    "#plt.ylabel('channels',fontsize=SMALL_SIZE)\n",
    "#plt.xlabel('channels',fontsize=SMALL_SIZE)\n",
    "plt.yticks([])\n",
    "plt.xticks([])\n",
    "plt.tight_layout()\n",
    "plt.savefig(pathfig+'FigS4/CorrTP_sub_s.pdf', transparent=True, format=\"PDF\")\n",
    "plt.show()"
   ]
  },
  {
   "cell_type": "code",
   "execution_count": 330,
   "id": "forty-restoration",
   "metadata": {},
   "outputs": [
    {
     "data": {
      "image/png": "[encoded data removed]",
      "text/plain": [
       "<Figure size 126x126 with 1 Axes>"
      ]
     },
     "metadata": {},
     "output_type": "display_data"
    }
   ],
   "source": [
    "plt.figure(figsize=(1.75,1.75))\n",
    "#plt.title('Backbone',fontsize=MEDIUM_SIZE)\n",
    "plt.imshow(np.corrcoef(TPS['music']),cmap=cl,interpolation='nearest',vmax=vm)\n",
    "for i in range(len(subject_list)):\n",
    "    plt.axvline(i-0.5,linewidth=0.15,color='lightsteelblue')\n",
    "    plt.axhline(i-0.5,linewidth=0.15,color='lightsteelblue')\n",
    "plt.yticks([])\n",
    "plt.xticks([])\n",
    "plt.tight_layout()\n",
    "plt.savefig(pathfig+'FigS4/CorrTP_sub_m.pdf', transparent=True, format=\"PDF\")\n",
    "plt.show()"
   ]
  },
  {
   "cell_type": "code",
   "execution_count": 332,
   "id": "adaptive-folks",
   "metadata": {},
   "outputs": [
    {
     "data": {
      "image/png": "[encoded data removed]",
      "text/plain": [
       "<Figure size 126x126 with 1 Axes>"
      ]
     },
     "metadata": {},
     "output_type": "display_data"
    }
   ],
   "source": [
    "plt.figure(figsize=(1.75,1.75))\n",
    "plt.imshow(np.corrcoef(TPS['rest']),cmap=cl,interpolation='nearest',vmax=vm)\n",
    "for i in range(len(subject_list)):\n",
    "    plt.axvline(i-0.5,linewidth=0.15,color='lightsteelblue')\n",
    "    plt.axhline(i-0.5,linewidth=0.15,color='lightsteelblue')\n",
    "plt.yticks([])\n",
    "plt.xticks([])\n",
    "plt.tight_layout()\n",
    "plt.savefig(pathfig+'FigS4/CorrTP_sub_r.pdf', transparent=True, format=\"PDF\")\n",
    "plt.show()"
   ]
  },
  {
   "cell_type": "code",
   "execution_count": null,
   "id": "controlled-fabric",
   "metadata": {},
   "outputs": [],
   "source": []
  },
  {
   "cell_type": "code",
   "execution_count": null,
   "id": "square-allah",
   "metadata": {},
   "outputs": [],
   "source": []
  },
  {
   "cell_type": "code",
   "execution_count": null,
   "id": "native-scoop",
   "metadata": {},
   "outputs": [],
   "source": []
  },
  {
   "cell_type": "code",
   "execution_count": null,
   "id": "super-exploration",
   "metadata": {},
   "outputs": [],
   "source": []
  },
  {
   "cell_type": "code",
   "execution_count": null,
   "id": "elementary-purpose",
   "metadata": {},
   "outputs": [],
   "source": []
  },
  {
   "cell_type": "code",
   "execution_count": null,
   "id": "available-wealth",
   "metadata": {},
   "outputs": [],
   "source": []
  },
  {
   "cell_type": "code",
   "execution_count": 99,
   "id": "endless-alias",
   "metadata": {},
   "outputs": [],
   "source": [
    "isu=subject_list[6]\n",
    "iso=sound_list[2]"
   ]
  },
  {
   "cell_type": "code",
   "execution_count": 125,
   "id": "medium-isolation",
   "metadata": {},
   "outputs": [
    {
     "data": {
      "text/plain": [
       "<matplotlib.collections.PathCollection at 0x7fae52d390f0>"
      ]
     },
     "execution_count": 125,
     "metadata": {},
     "output_type": "execute_result"
    },
    {
     "data": {
      "image/png": "[encoded data removed]",
      "text/plain": [
       "<Figure size 432x288 with 1 Axes>"
      ]
     },
     "metadata": {
      "needs_background": "light"
     },
     "output_type": "display_data"
    }
   ],
   "source": [
    "i=1\n",
    "plt.figure()\n",
    "isu=subject_list[7]\n",
    "ap_i=ap[subject]['speech']\n",
    "tp_i=tp[subject]['speech']\n",
    "m=min(len(ap_i),len(tp_i))\n",
    "\n",
    "plt.scatter(ap_i[:m],tp_i[:m])\n",
    "plt.title('Corr=%.3f'%stats.spearmanr)\n"
   ]
  },
  {
   "cell_type": "code",
   "execution_count": 101,
   "id": "qualified-michael",
   "metadata": {},
   "outputs": [
    {
     "data": {
      "text/plain": [
       "array([[1.        , 0.08244979],\n",
       "       [0.08244979, 1.        ]])"
      ]
     },
     "execution_count": 101,
     "metadata": {},
     "output_type": "execute_result"
    }
   ],
   "source": [
    "np.corrcoef(ap[isu]['rest'],tp[isu]['rest'])"
   ]
  },
  {
   "cell_type": "code",
   "execution_count": 102,
   "id": "attempted-rates",
   "metadata": {},
   "outputs": [
    {
     "data": {
      "text/plain": [
       "SpearmanrResult(correlation=0.12042938711266638, pvalue=0.12808053331225105)"
      ]
     },
     "execution_count": 102,
     "metadata": {},
     "output_type": "execute_result"
    }
   ],
   "source": [
    "stats.spearmanr(ap[isu]['rest'],tp[isu]['rest'])"
   ]
  },
  {
   "cell_type": "code",
   "execution_count": 104,
   "id": "developing-flexibility",
   "metadata": {},
   "outputs": [
    {
     "name": "stdout",
     "output_type": "stream",
     "text": [
      "ops\n",
      "ops\n",
      "ops\n",
      "ops\n",
      "ops\n",
      "ops\n",
      "ops\n",
      "ops\n",
      "ops\n",
      "ops\n",
      "ops\n",
      "ops\n",
      "ops\n",
      "ops\n",
      "ops\n",
      "ops\n",
      "ops\n",
      "ops\n",
      "ops\n",
      "ops\n",
      "ops\n",
      "ops\n",
      "ops\n",
      "ops\n",
      "ops\n",
      "ops\n",
      "ops\n",
      "ops\n",
      "ops\n",
      "ops\n",
      "ops\n",
      "ops\n",
      "ops\n",
      "ops\n",
      "ops\n",
      "ops\n",
      "ops\n",
      "ops\n"
     ]
    }
   ],
   "source": [
    "for subject in subject_list:\n",
    "\n",
    "    for sound in sound_list:\n",
    "        if len(ap[subject][sound])!=len(tp[subject][sound]):\n",
    "            print('ops')"
   ]
  },
  {
   "cell_type": "code",
   "execution_count": null,
   "id": "patent-rehabilitation",
   "metadata": {},
   "outputs": [],
   "source": []
  },
  {
   "cell_type": "code",
   "execution_count": null,
   "id": "broad-cosmetic",
   "metadata": {},
   "outputs": [],
   "source": []
  },
  {
   "cell_type": "code",
   "execution_count": null,
   "id": "boxed-klein",
   "metadata": {},
   "outputs": [],
   "source": []
  },
  {
   "cell_type": "code",
   "execution_count": null,
   "id": "confident-mirror",
   "metadata": {},
   "outputs": [],
   "source": []
  },
  {
   "cell_type": "code",
   "execution_count": null,
   "id": "external-petite",
   "metadata": {},
   "outputs": [],
   "source": []
  },
  {
   "cell_type": "code",
   "execution_count": null,
   "id": "employed-agent",
   "metadata": {},
   "outputs": [],
   "source": []
  },
  {
   "cell_type": "code",
   "execution_count": null,
   "id": "responsible-attitude",
   "metadata": {},
   "outputs": [],
   "source": []
  },
  {
   "cell_type": "code",
   "execution_count": null,
   "id": "annoying-disorder",
   "metadata": {},
   "outputs": [],
   "source": []
  },
  {
   "cell_type": "code",
   "execution_count": null,
   "id": "destroyed-tradition",
   "metadata": {},
   "outputs": [],
   "source": []
  },
  {
   "cell_type": "code",
   "execution_count": null,
   "id": "subsequent-apache",
   "metadata": {},
   "outputs": [],
   "source": []
  },
  {
   "cell_type": "code",
   "execution_count": null,
   "id": "perfect-accuracy",
   "metadata": {},
   "outputs": [],
   "source": []
  },
  {
   "cell_type": "code",
   "execution_count": null,
   "id": "correct-discipline",
   "metadata": {},
   "outputs": [],
   "source": []
  },
  {
   "cell_type": "code",
   "execution_count": null,
   "id": "complicated-heaven",
   "metadata": {},
   "outputs": [],
   "source": []
  },
  {
   "cell_type": "code",
   "execution_count": null,
   "id": "extended-eagle",
   "metadata": {},
   "outputs": [],
   "source": []
  },
  {
   "cell_type": "code",
   "execution_count": null,
   "id": "direct-maryland",
   "metadata": {},
   "outputs": [],
   "source": []
  },
  {
   "cell_type": "code",
   "execution_count": null,
   "id": "convinced-ranch",
   "metadata": {},
   "outputs": [],
   "source": []
  },
  {
   "cell_type": "code",
   "execution_count": null,
   "id": "frequent-internship",
   "metadata": {},
   "outputs": [],
   "source": []
  },
  {
   "cell_type": "code",
   "execution_count": null,
   "id": "nervous-baltimore",
   "metadata": {},
   "outputs": [],
   "source": []
  },
  {
   "cell_type": "code",
   "execution_count": null,
   "id": "changed-familiar",
   "metadata": {},
   "outputs": [],
   "source": []
  },
  {
   "cell_type": "code",
   "execution_count": null,
   "id": "after-procedure",
   "metadata": {},
   "outputs": [],
   "source": []
  },
  {
   "cell_type": "code",
   "execution_count": null,
   "id": "neutral-third",
   "metadata": {},
   "outputs": [],
   "source": []
  },
  {
   "cell_type": "code",
   "execution_count": null,
   "id": "according-ridge",
   "metadata": {},
   "outputs": [],
   "source": []
  },
  {
   "cell_type": "markdown",
   "id": "attended-halloween",
   "metadata": {},
   "source": [
    "# BACKUP"
   ]
  },
  {
   "cell_type": "code",
   "execution_count": null,
   "id": "suspended-thesis",
   "metadata": {},
   "outputs": [],
   "source": [
    "t_scale[subject]=dict()\n",
    "    \n",
    "    for sound in sound_list:\n",
    "        \n",
    "        tlen=zdata[sound].shape[1]\n",
    "        nregions=zdata[sound].shape[0]\n",
    "        W_L = np.arange(0,tlen-L,sp) # start times of windows, spaced every sp time points\n",
    "        n_W = W_L.size # number of windows\n",
    "        acft=np.zeros(n_W) \n",
    "        T=np.zeros((nregions, n_W))\n",
    "\n",
    "        for i in range(n_W):\n",
    "            t_start = W_L[i]\n",
    "            t_stop = t_start + L\n",
    "            dat=zdata[sound][:,t_start:t_stop]\n",
    "\n",
    "            # Autocorrelation\n",
    "            ACA=np.zeros((nregions,max_delay))\n",
    "            for ir in range(nregions):\n",
    "                ACA[ir,:]=acfun(dat[ir,:],max_delay)\n",
    "\n",
    "            p0 = (1, 8) # start with values near those we expect\n",
    "            #M=np.zeros(nregions)\n",
    "            #B=np.zeros(nregions)\n",
    "            \n",
    "\n",
    "            for ir in range(nregions):\n",
    "                first_min=max(np.argmax(np.sign(np.diff(ACA[ir])))+1,5)\n",
    "                tshift=np.arange(0,first_min,1)\n",
    "                \n",
    "                T[ir,i]=np.sum(ACA[ir][:first_min])\n",
    "                \n",
    "            acft[i]=np.mean(T[:,i])\n",
    "        \n",
    "        t_scale[subject][sound]=acft"
   ]
  },
  {
   "cell_type": "code",
   "execution_count": 4,
   "id": "polar-request",
   "metadata": {},
   "outputs": [
    {
     "data": {
      "image/png": "[encoded data removed]",
      "text/plain": [
       "<Figure size 108x108 with 1 Axes>"
      ]
     },
     "metadata": {},
     "output_type": "display_data"
    }
   ],
   "source": [
    "plt.figure(figsize=(1.5,1.5))\n",
    "#plt.title('Backbone',fontsize=MEDIUM_SIZE)\n",
    "plt.imshow(np.corrcoef(BOLD[720:800,:].T),cmap='viridis',interpolation='nearest')\n",
    "for i in range(8):\n",
    "    plt.axvline(i-0.5,linewidth=0.75,color='lightsteelblue')\n",
    "    plt.axhline(i-0.5,linewidth=0.75,color='lightsteelblue')\n",
    "plt.ylabel('ROIs',fontsize=SMALL_SIZE)\n",
    "plt.xlabel('ROIs',fontsize=SMALL_SIZE)\n",
    "plt.yticks([])\n",
    "plt.xticks([])\n",
    "plt.tight_layout()\n",
    "plt.savefig(pathetienne+'FAA.pdf', transparent=True, format=\"PDF\")\n",
    "plt.show()"
   ]
  },
  {
   "cell_type": "code",
   "execution_count": 10,
   "id": "tender-going",
   "metadata": {},
   "outputs": [
    {
     "data": {
      "image/png": "[encoded data removed]",
      "text/plain": [
       "<Figure size 108x108 with 1 Axes>"
      ]
     },
     "metadata": {},
     "output_type": "display_data"
    }
   ],
   "source": [
    "plt.figure(figsize=(1.5,1.5))\n",
    "#plt.title('Backbone',fontsize=MEDIUM_SIZE)\n",
    "plt.imshow(np.corrcoef(BOLD[20:500,:].T),cmap='viridis',interpolation='nearest')\n",
    "for i in range(8):\n",
    "    plt.axvline(i-0.5,linewidth=0.75,color='lightsteelblue')\n",
    "    plt.axhline(i-0.5,linewidth=0.75,color='lightsteelblue')\n",
    "plt.ylabel('ROIs',fontsize=SMALL_SIZE)\n",
    "plt.xlabel('ROIs',fontsize=SMALL_SIZE)\n",
    "plt.yticks([])\n",
    "plt.xticks([])\n",
    "plt.tight_layout()\n",
    "plt.savefig(pathetienne+'FAAB.pdf', transparent=True, format=\"PDF\")\n",
    "plt.show()"
   ]
  },
  {
   "cell_type": "code",
   "execution_count": 15,
   "id": "monetary-softball",
   "metadata": {},
   "outputs": [],
   "source": [
    "Mat=np.zeros((8,8))\n",
    "Mat[np.triu_indices(8,1)]=list4\n",
    "Mat=Mat+Mat.T"
   ]
  },
  {
   "cell_type": "code",
   "execution_count": 16,
   "id": "damaged-flashing",
   "metadata": {},
   "outputs": [
    {
     "data": {
      "text/plain": [
       "array([[0., 1., 1., 1., 2., 0., 0., 0.],\n",
       "       [1., 0., 0., 0., 0., 0., 2., 1.],\n",
       "       [1., 0., 0., 1., 1., 0., 0., 1.],\n",
       "       [1., 0., 1., 0., 1., 0., 1., 1.],\n",
       "       [2., 0., 1., 1., 0., 0., 0., 0.],\n",
       "       [0., 0., 0., 0., 0., 0., 3., 0.],\n",
       "       [0., 2., 0., 1., 0., 3., 0., 0.],\n",
       "       [0., 1., 1., 1., 0., 0., 0., 0.]])"
      ]
     },
     "execution_count": 16,
     "metadata": {},
     "output_type": "execute_result"
    }
   ],
   "source": [
    "# \\begin{bmatrix}\n",
    "#     0 & 1 & 1 & 1 & 2 & 0 & 0 & 0 \\\\\n",
    "#     1 & 0 & 0 & 0 & 0 & 0 & 2 & 1 \\\\\n",
    "#     1 & 0 & 0 & 1 & 1 & 0 & 0 & 1 \\\\\n",
    "#     1 & 0 & 1 & 0 & 1 & 0 & 1 & 1 \\\\\n",
    "#     2 & 0 & 1 & 1 & 0 & 0 & 0 & 0 \\\\\n",
    "#     0 & 0 & 0 & 0 & 0 & 0 & 3 & 0 \\\\\n",
    "#     0 & 2 & 0 & 1 & 0 & 3 & 0 & 0 \\\\\n",
    "#     0 & 1 & 1 & 1 & 0 & 0 & 0 & 0\n",
    "# \\end{bmatrix}"
   ]
  },
  {
   "cell_type": "code",
   "execution_count": 167,
   "id": "sound-possibility",
   "metadata": {},
   "outputs": [
    {
     "data": {
      "image/png": "[encoded data removed]",
      "text/plain": [
       "<Figure size 108x108 with 1 Axes>"
      ]
     },
     "metadata": {},
     "output_type": "display_data"
    }
   ],
   "source": [
    "Mbin=np.array([[0., 1., 0, 0., 0, 0., 0., 0.],\n",
    "               [1., 0., 1., 1., 0., 0., 0, 0],\n",
    "               [0., 1., 0., 1., 0, 0., 0., 0.],\n",
    "               [0, 1., 1., 0., 1., 0., 0., 0],\n",
    "               [0, 0., 0., 1., 0., 0., 1., 1.],\n",
    "               [0., 0., 0., 0, 0, 0., 0, 0.],\n",
    "               [0., 0, 0., 0., 1., 0, 0., 1.],\n",
    "               [0., 0, 0., 0., 1., 0., 1., 0.]])\n",
    "plt.figure(figsize=(1.5,1.5))\n",
    "#plt.title('Backbone',fontsize=MEDIUM_SIZE)\n",
    "plt.imshow(Mbin.T,cmap='viridis',interpolation='nearest')\n",
    "for i in range(8):\n",
    "    plt.axvline(i-0.5,linewidth=0.75,color='lightsteelblue')\n",
    "    plt.axhline(i-0.5,linewidth=0.75,color='lightsteelblue')\n",
    "plt.ylabel('ROIs',fontsize=SMALL_SIZE)\n",
    "plt.xlabel('ROIs',fontsize=SMALL_SIZE)\n",
    "plt.yticks([])\n",
    "plt.xticks([])\n",
    "plt.tight_layout()\n",
    "plt.savefig(pathetienne+'fig1a_bbone.pdf', transparent=True, format=\"PDF\")\n",
    "plt.show()"
   ]
  },
  {
   "cell_type": "markdown",
   "id": "selective-affairs",
   "metadata": {},
   "source": [
    "### BINOMIAL"
   ]
  },
  {
   "cell_type": "code",
   "execution_count": 7,
   "id": "potential-edmonton",
   "metadata": {},
   "outputs": [
    {
     "data": {
      "image/png": "[encoded data removed]",
      "text/plain": [
       "<Figure size 180x126 with 1 Axes>"
      ]
     },
     "metadata": {},
     "output_type": "display_data"
    }
   ],
   "source": [
    "n, p = 6, 0.7\n",
    "mean, var, skew, kurt = binom.stats(n, p, moments='mvsk')\n",
    "x = np.linspace(-4.,5,100)\n",
    "density = stats.kde.gaussian_kde(binom.pmf(x, n, p),40)\n",
    "\n",
    "\n",
    "f, ax = plt.subplots(figsize=(2.5, 1.75))\n",
    "plt.plot(x, density(x),c='k',linewidth=2,label='original')\n",
    "plt.fill_between(x[70:], density(x[70:]), facecolor='tomato', alpha=0.75)\n",
    "ax.set_frame_on(False)\n",
    "plt.axvline(-4.5,c='k',linewidth=2)\n",
    "plt.axhline(0,c='k',linewidth=2)\n",
    "plt.ylim(-0.003,0.3)\n",
    "plt.xlim(-4.54,5)\n",
    "plt.yticks([])\n",
    "plt.xticks([])\n",
    "#plt.legend();\n",
    "plt.tight_layout()\n",
    "#plt.savefig(pathetienne+'binomial.pdf', transparent=True, format=\"PDF\")\n",
    "plt.show()"
   ]
  },
  {
   "cell_type": "markdown",
   "id": "thermal-mobile",
   "metadata": {},
   "source": [
    "# FIGURE CONCEPT "
   ]
  },
  {
   "cell_type": "code",
   "execution_count": 44,
   "id": "binary-country",
   "metadata": {},
   "outputs": [],
   "source": [
    "bbone_exe=np.load(pathdata+'nice_indbb.npy')\n",
    "bbone_average=np.load(pathdata+'average_bb.npy')"
   ]
  },
  {
   "cell_type": "code",
   "execution_count": 83,
   "id": "marked-claim",
   "metadata": {},
   "outputs": [
    {
     "data": {
      "image/png": "[encoded data removed]",
      "text/plain": [
       "<Figure size 288x288 with 1 Axes>"
      ]
     },
     "metadata": {},
     "output_type": "display_data"
    }
   ],
   "source": [
    "plt.figure(figsize=(4.,4.))\n",
    "#plt.title('Backbone',fontsize=MEDIUM_SIZE)\n",
    "plt.imshow(bbone_exe,cmap='bone_r',interpolation='nearest')\n",
    "for i in range(119)[::2]:\n",
    "    plt.axvline(i,linewidth=0.1,color='gray')\n",
    "    plt.axhline(i,linewidth=0.1,color='gray')\n",
    "#plt.ylabel('ROIs',fontsize=SMALL_SIZE)\n",
    "#plt.xlabel('ROIs',fontsize=SMALL_SIZE)\n",
    "plt.axis('off')\n",
    "plt.yticks([])\n",
    "plt.xticks([])\n",
    "plt.tight_layout()\n",
    "#plt.savefig(pathetienne+'fig2a_bb.pdf', transparent=True, format=\"PDF\")\n",
    "plt.show()"
   ]
  },
  {
   "cell_type": "code",
   "execution_count": 119,
   "id": "dressed-clause",
   "metadata": {},
   "outputs": [
    {
     "data": {
      "image/png": "[encoded data removed]",
      "text/plain": [
       "<Figure size 288x288 with 1 Axes>"
      ]
     },
     "metadata": {},
     "output_type": "display_data"
    }
   ],
   "source": [
    "plt.figure(figsize=(4.,4.))\n",
    "#plt.title('Backbone',fontsize=MEDIUM_SIZE)\n",
    "plt.imshow(np.where(bbone_average-40*np.random.random((120,120))+30*np.random.random((120,120))>20.5,1,0)[np.ix_(norder,norder)],cmap='bone_r',interpolation='nearest')\n",
    "for i in range(119)[::2]:\n",
    "    plt.axvline(i,linewidth=0.1,color='gray')\n",
    "    plt.axhline(i,linewidth=0.1,color='gray')\n",
    "#plt.ylabel('ROIs',fontsize=SMALL_SIZE)\n",
    "#plt.xlabel('ROIs',fontsize=SMALL_SIZE)\n",
    "plt.axis('off')\n",
    "plt.yticks([])\n",
    "plt.xticks([])\n",
    "plt.tight_layout()\n",
    "plt.savefig(pathetienne+'figQRdis.pdf', transparent=True, format=\"PDF\")\n",
    "plt.show()"
   ]
  },
  {
   "cell_type": "code",
   "execution_count": 110,
   "id": "conservative-pursuit",
   "metadata": {},
   "outputs": [
    {
     "data": {
      "image/png": "[encoded data removed]",
      "text/plain": [
       "<Figure size 288x288 with 1 Axes>"
      ]
     },
     "metadata": {},
     "output_type": "display_data"
    }
   ],
   "source": [
    "plt.figure(figsize=(4.,4.))\n",
    "#plt.title('Backbone',fontsize=MEDIUM_SIZE)\n",
    "plt.imshow(np.where(bbone_average-20*np.random.random((120,120))>1.,1,0)[np.ix_(norder,norder)],cmap='bone_r',interpolation='nearest')\n",
    "for i in range(119)[::2]:\n",
    "    plt.axvline(i,linewidth=0.1,color='gray')\n",
    "    plt.axhline(i,linewidth=0.1,color='gray')\n",
    "#plt.ylabel('ROIs',fontsize=SMALL_SIZE)\n",
    "#plt.xlabel('ROIs',fontsize=SMALL_SIZE)\n",
    "plt.axis('off')\n",
    "plt.yticks([])\n",
    "plt.xticks([])\n",
    "plt.tight_layout()\n",
    "plt.savefig(pathetienne+'figQRold.pdf', transparent=True, format=\"PDF\")\n",
    "plt.show()"
   ]
  },
  {
   "cell_type": "code",
   "execution_count": 108,
   "id": "homeless-midnight",
   "metadata": {},
   "outputs": [],
   "source": [
    "norder=np.copy(order)\n",
    "for i in np.arange(120,148):\n",
    "    norder=np.delete(norder,np.where(norder==i))"
   ]
  },
  {
   "cell_type": "code",
   "execution_count": 109,
   "id": "thermal-persian",
   "metadata": {},
   "outputs": [
    {
     "data": {
      "text/plain": [
       "array([  9,  10,  11,  12,  13,  14,  15,  16,  18,  19,  22,  23,  24,\n",
       "        25,  26,  83,  84,  85,  86,  87,  88,  89,  90,  92,  93,  96,\n",
       "        97,  98,  99, 100,   1,   2,   3,   4,   5,   6,   7,   8,  20,\n",
       "        21,  75,  76,  77,  78,  79,  80,  81,  82,  94,  95,  30,  31,\n",
       "        32,  34,  35,  46,  47,  56,  57,  58, 104, 105, 106, 108, 109,\n",
       "        44,  45,  48,  49,  50,  51,  52, 118, 119,  27,  41,  42,  43,\n",
       "       101, 115, 116, 117,  28,  29,  33,  36,  37,  38,  39,  53,  54,\n",
       "       102, 103, 107, 110, 111, 112, 113,   0,  17,  40,  55,  60,  74,\n",
       "        91, 114,  59,  61,  62,  63,  64,  65,  66,  67,  68,  69,  70,\n",
       "        71,  72,  73])"
      ]
     },
     "execution_count": 109,
     "metadata": {},
     "output_type": "execute_result"
    }
   ],
   "source": [
    "norder"
   ]
  },
  {
   "cell_type": "code",
   "execution_count": 111,
   "id": "democratic-price",
   "metadata": {},
   "outputs": [
    {
     "data": {
      "image/png": "[encoded data removed]",
      "text/plain": [
       "<Figure size 288x288 with 1 Axes>"
      ]
     },
     "metadata": {},
     "output_type": "display_data"
    }
   ],
   "source": [
    "plt.figure(figsize=(4.,4.))\n",
    "#plt.title('Backbone',fontsize=MEDIUM_SIZE)\n",
    "plt.imshow(np.where(bbone_average>4.,1,0)[np.ix_(norder,norder)],cmap='bone_r',interpolation='nearest')\n",
    "for i in range(119)[::2]:\n",
    "    plt.axvline(i,linewidth=0.1,color='gray')\n",
    "    plt.axhline(i,linewidth=0.1,color='gray')\n",
    "#plt.ylabel('ROIs',fontsize=SMALL_SIZE)\n",
    "#plt.xlabel('ROIs',fontsize=SMALL_SIZE)\n",
    "plt.axis('off')\n",
    "plt.yticks([])\n",
    "plt.xticks([])\n",
    "plt.tight_layout()\n",
    "plt.savefig(pathetienne+'figQRyoung.pdf', transparent=True, format=\"PDF\")\n",
    "plt.show()"
   ]
  },
  {
   "cell_type": "code",
   "execution_count": null,
   "id": "institutional-banks",
   "metadata": {},
   "outputs": [],
   "source": []
  },
  {
   "cell_type": "code",
   "execution_count": null,
   "id": "authorized-notice",
   "metadata": {},
   "outputs": [],
   "source": []
  }
 ],
 "metadata": {
  "kernelspec": {
   "display_name": "Python 3",
   "language": "python",
   "name": "python3"
  },
  "language_info": {
   "codemirror_mode": {
    "name": "ipython",
    "version": 3
   },
   "file_extension": ".py",
   "mimetype": "text/x-python",
   "name": "python",
   "nbconvert_exporter": "python",
   "pygments_lexer": "ipython3",
   "version": "3.9.4"
  }
 },
 "nbformat": 4,
 "nbformat_minor": 5
}
