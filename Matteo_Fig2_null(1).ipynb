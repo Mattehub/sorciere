{
 "cells": [
  {
   "cell_type": "code",
   "execution_count": 2,
   "metadata": {},
   "outputs": [
    {
     "name": "stdout",
     "output_type": "stream",
     "text": [
      "Populating the interactive namespace from numpy and matplotlib\n"
     ]
    }
   ],
   "source": [
    "%pylab nbagg\n",
    "%matplotlib inline"
   ]
  },
  {
   "cell_type": "code",
   "execution_count": 5,
   "metadata": {},
   "outputs": [],
   "source": [
    "# For each subject, start from your binary timeseries matrix ~(time,rois)"
   ]
  },
  {
   "cell_type": "code",
   "execution_count": 14,
   "metadata": {},
   "outputs": [],
   "source": [
    "TSr=np.where(zdata['rest'][:,:5000]>3,1,0).T\n",
    "TSm=np.where(zdata['music'][:,:5000]>3,1,0).T\n",
    "TSs=np.where(zdata['speech'][:,:5000]>3,1,0).T"
   ]
  },
  {
   "cell_type": "code",
   "execution_count": 15,
   "metadata": {},
   "outputs": [
    {
     "data": {
      "text/plain": [
       "(5000, 123)"
      ]
     },
     "execution_count": 15,
     "metadata": {},
     "output_type": "execute_result"
    }
   ],
   "source": [
    "TSs.shape # binary timeseres matrix ~(time,rois)"
   ]
  },
  {
   "cell_type": "code",
   "execution_count": 41,
   "metadata": {},
   "outputs": [],
   "source": [
    "def Significance(TSr,TSm,TSs,nsample=1000):\n",
    "    \n",
    "    tlen=TSr.shape[0] #time points\n",
    "    N=TSr.shape[1] #number of regions\n",
    "    \n",
    "    # Observed Activty Engagements in r,m,s\n",
    "    AEr=np.mean(TSr,axis=0)\n",
    "    AEm=np.mean(TSm,axis=0)\n",
    "    AEs=np.mean(TSs,axis=0)\n",
    "    \n",
    "    # Observed Delta Activty Engagements in m,s with respect to r\n",
    "    DeltaAEm=AEm-AEr\n",
    "    DeltaAEs=AEs-AEr\n",
    "    \n",
    "    # Obtain 1000 'AE' and 'DeltaAE' null models\n",
    "    #nsample=10\n",
    "    AEr_nulls=np.zeros((nsample,N))\n",
    "    AEm_nulls=np.zeros((nsample,N))\n",
    "    AEs_nulls=np.zeros((nsample,N))\n",
    "    \n",
    "    DeltaAEm_nulls=np.zeros((nsample,N))\n",
    "    DeltaAEs_nulls=np.zeros((nsample,N))\n",
    "    \n",
    "    for i in range(nsample):\n",
    "        # define surrogate matrices by randomly mixing the columns of TSr,TSm,TSs \n",
    "        X=np.vstack((TSr,TSm,TSs))\n",
    "        np.random.shuffle(X)\n",
    "        X = X.reshape(3, tlen, N)\n",
    "        \n",
    "        AEr_nulls=np.mean(X[0],axis=0)\n",
    "        AEm_nulls=np.mean(X[1],axis=0)\n",
    "        AEs_nulls=np.mean(X[2],axis=0)\n",
    "        \n",
    "        # define delta surrogate matrices \n",
    "        Y=np.vstack((TSr,TSm))\n",
    "        np.random.shuffle(Y)\n",
    "        Y = Y.reshape(2, tlen, N)\n",
    "        DeltaAEm_nulls[i]=np.mean(Y[1],axis=0)-np.mean(Y[0],axis=0)\n",
    "        \n",
    "        Z=np.vstack((TSr,TSs))\n",
    "        np.random.shuffle(Z)\n",
    "        Z = Z.reshape(2, tlen, N)\n",
    "        DeltaAEs_nulls[i]=np.mean(Z[1],axis=0)-np.mean(Z[0],axis=0)        \n",
    "    \n",
    "    # Find significance \n",
    "    \n",
    "    B=np.tile(AEr,(nsample,1))>AEr_nulls\n",
    "    AEr_significance=1-np.sum(B,axis=0)/nsample\n",
    "    \n",
    "    B=np.tile(AEm,(nsample,1))>AEm_nulls\n",
    "    AEm_significance=1-np.sum(B,axis=0)/nsample\n",
    "    \n",
    "    B=np.tile(AEs,(nsample,1))>AEs_nulls\n",
    "    AEs_significance=1-np.sum(B,axis=0)/nsample\n",
    "    \n",
    "    B=np.tile(DeltaAEm,(nsample,1))>DeltaAEm_nulls\n",
    "    DeltaAEm_significance=1-np.sum(B,axis=0)/nsample\n",
    "    \n",
    "    B=np.tile(DeltaAEs,(nsample,1))>DeltaAEs_nulls\n",
    "    DeltaAEs_significance=1-np.sum(B,axis=0)/nsample\n",
    "        \n",
    "    return AEr_significance, AEm_significance, AEs_significance, DeltaAEm_significance, DeltaAEs_significance"
   ]
  },
  {
   "cell_type": "code",
   "execution_count": 42,
   "metadata": {},
   "outputs": [],
   "source": [
    "p_ch_rest,p_ch_music,p_ch_speech,p_Delta_music,p_Delta_speech=Significance(TSr,TSm,TSs,nsample=1000)"
   ]
  },
  {
   "cell_type": "code",
   "execution_count": 51,
   "metadata": {},
   "outputs": [
    {
     "data": {
      "image/png": "[encoded data removed]",
      "text/plain": [
       "<Figure size 720x288 with 1 Axes>"
      ]
     },
     "metadata": {
      "needs_background": "light"
     },
     "output_type": "display_data"
    }
   ],
   "source": [
    "plt.figure(figsize=(10,4))\n",
    "plt.title('Significance of each channel')\n",
    "plt.plot(p_ch_rest,'o',label='rest')\n",
    "plt.plot(p_ch_music,'o',label='music')\n",
    "plt.plot(p_ch_speech,'o',label='speech')\n",
    "plt.legend()\n",
    "plt.ylim(-0.001,0.05)\n",
    "plt.xlabel('Channels')\n",
    "plt.ylabel('p-value')\n",
    "plt.tight_layout()\n",
    "plt.show()"
   ]
  },
  {
   "cell_type": "code",
   "execution_count": 52,
   "metadata": {},
   "outputs": [
    {
     "data": {
      "image/png": "[encoded data removed]",
      "text/plain": [
       "<Figure size 720x288 with 1 Axes>"
      ]
     },
     "metadata": {
      "needs_background": "light"
     },
     "output_type": "display_data"
    }
   ],
   "source": [
    "plt.figure(figsize=(10,4))\n",
    "plt.title('Significance of Delta')\n",
    "plt.plot(p_Delta_music,'o',label='music-rest')\n",
    "plt.plot(p_Delta_speech,'o',label='speech-rest')\n",
    "plt.legend()\n",
    "plt.ylim(-0.001,0.05)\n",
    "plt.xlabel('Channels')\n",
    "plt.ylabel('p-value')\n",
    "plt.tight_layout()\n",
    "plt.show()"
   ]
  },
  {
   "cell_type": "code",
   "execution_count": null,
   "metadata": {},
   "outputs": [],
   "source": []
  },
  {
   "cell_type": "code",
   "execution_count": null,
   "metadata": {},
   "outputs": [],
   "source": []
  },
  {
   "cell_type": "code",
   "execution_count": null,
   "metadata": {},
   "outputs": [],
   "source": []
  },
  {
   "cell_type": "code",
   "execution_count": null,
   "metadata": {},
   "outputs": [],
   "source": []
  }
 ],
 "metadata": {
  "kernelspec": {
   "display_name": "p36workshop",
   "language": "python",
   "name": "p36workshop"
  },
  "language_info": {
   "codemirror_mode": {
    "name": "ipython",
    "version": 3
   },
   "file_extension": ".py",
   "mimetype": "text/x-python",
   "name": "python",
   "nbconvert_exporter": "python",
   "pygments_lexer": "ipython3",
   "version": "3.6.12"
  }
 },
 "nbformat": 4,
 "nbformat_minor": 4
}
